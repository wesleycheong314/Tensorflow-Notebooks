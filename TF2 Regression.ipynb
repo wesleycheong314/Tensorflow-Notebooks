{
  "nbformat": 4,
  "nbformat_minor": 5,
  "metadata": {
    "kernelspec": {
      "display_name": "Python 3",
      "language": "python",
      "name": "python3"
    },
    "language_info": {
      "codemirror_mode": {
        "name": "ipython",
        "version": 3
      },
      "file_extension": ".py",
      "mimetype": "text/x-python",
      "name": "python",
      "nbconvert_exporter": "python",
      "pygments_lexer": "ipython3",
      "version": "3.8.5"
    },
    "colab": {
      "name": "lab2_regression_tf.ipynb",
      "provenance": [],
      "toc_visible": true
    }
  },
  "cells": [
    {
      "cell_type": "markdown",
      "metadata": {
        "id": "AT21lIy60bi1"
      },
      "source": [
        "## Introduction to Deep Learning with TensorFlow 2\n",
        "\n",
        "This notebook will walk through the procedure of developing a neural network to solve a supervised learning problem with TensorFlow 2. Let's begin with an example of a regression problem:"
      ],
      "id": "AT21lIy60bi1"
    },
    {
      "cell_type": "markdown",
      "metadata": {
        "id": "uZGxRvoS0bi5"
      },
      "source": [
        "## Toy Example\n",
        "The requirements are the following:\n",
        "\n",
        "1. A dataset D = {$(x_1,y_1), (x_2,y_2), ..., (x_N, y_N)$} \n",
        "2. A parametric model f with a specified model architecture (i.e. the functional form of f).\n",
        "3. A loss function that evaluates the error in the outputs (predictions) of the model with respect to the ground truth labels y from the dataset D"
      ],
      "id": "uZGxRvoS0bi5"
    },
    {
      "cell_type": "code",
      "metadata": {
        "id": "Hund-aJ80bi5"
      },
      "source": [
        "import tensorflow as tf\n",
        "import matplotlib.pyplot as plt"
      ],
      "id": "Hund-aJ80bi5",
      "execution_count": 1,
      "outputs": []
    },
    {
      "cell_type": "markdown",
      "metadata": {
        "id": "uvybMPFk0bi5"
      },
      "source": [
        "### Dataset\n",
        "Let's collect a dataset of x,y samples where: $$y = 3x^2 + x - 2$$\n",
        "\n",
        "$$X = [x_1, x_2, x_3, ..., x_N]^T$$\n",
        "$$Y = [y_1, y_2, y_3, ..., y_N]^T$$ \n",
        "\n",
        "1. Each $x_i$ is a real number, so X has dimensions Nx1\n",
        "2. Each $y_i$ is a real number, so Y has dimensions Nx1"
      ],
      "id": "uvybMPFk0bi5"
    },
    {
      "cell_type": "code",
      "metadata": {
        "colab": {
          "base_uri": "https://localhost:8080/"
        },
        "id": "PccN0k1B0bi6",
        "outputId": "10e6823c-d5bf-47ab-eeb7-5aef06d0bce5"
      },
      "source": [
        "x = tf.expand_dims(tf.linspace(start=-1, stop=1, num=10000), 1) # 10000 equally spaced values between [-1, 1]\n",
        "y = tf.cast(3*x**2 + x - 2, tf.double)\n",
        "\n",
        "print(x.shape, y.shape)"
      ],
      "id": "PccN0k1B0bi6",
      "execution_count": 2,
      "outputs": [
        {
          "output_type": "stream",
          "text": [
            "(10000, 1) (10000, 1)\n"
          ],
          "name": "stdout"
        }
      ]
    },
    {
      "cell_type": "code",
      "metadata": {
        "colab": {
          "base_uri": "https://localhost:8080/",
          "height": 282
        },
        "id": "irbfnyW-0bi6",
        "outputId": "7d6f1beb-829d-49f2-a857-30a90f87f125"
      },
      "source": [
        "# visualize the dataset\n",
        "plt.scatter(x, y)"
      ],
      "id": "irbfnyW-0bi6",
      "execution_count": 3,
      "outputs": [
        {
          "output_type": "execute_result",
          "data": {
            "text/plain": [
              "<matplotlib.collections.PathCollection at 0x7f0191851c90>"
            ]
          },
          "metadata": {
            "tags": []
          },
          "execution_count": 3
        },
        {
          "output_type": "display_data",
          "data": {
            "image/png": "[encoded data removed]",
            "text/plain": [
              "<Figure size 432x288 with 1 Axes>"
            ]
          },
          "metadata": {
            "tags": [],
            "needs_background": "light"
          }
        }
      ]
    },
    {
      "cell_type": "markdown",
      "metadata": {
        "id": "Nu_US7yp0bi7"
      },
      "source": [
        "### Model\n",
        "Let's define the model (i.e. the function f) that will map x to y. We assume that we do not know that y is a quadratic function of x. All we will assume is that x and y have a highly nonlinear relationship. Then, what should this function f be? A neural network, specifically a Multi-Layer Perceptron!"
      ],
      "id": "Nu_US7yp0bi7"
    },
    {
      "cell_type": "markdown",
      "metadata": {
        "id": "Yc_0yAd30bi7"
      },
      "source": [
        "**Multi-Layer Perceptron (MLP)**\n",
        "\n",
        "MLP is a generic yet useful neural network model. Consider a MLP for regression task, where we want to learn a mapping $x \\in \\mathbb{R}^k \\mapsto y \\in \\mathbb{R}$. The input $x$ is $k$-dimensional and $y$ is scalar. The simplest regression model is linear model with parameter $w \\in \\mathbb{R}^k$ and $w_0 \\in \\mathbb{R}$, we can propose to predict $y$ as $y_{pred} = w^T x + w_0$.\n",
        "\n",
        "MLP is a generalization of linear regression. Consider a linear transformation by matrix $W_1\\in\\mathbb{R}^{k\\times l}$ and bias vector $b_1\\in \\mathbb{R}^l$:\n",
        "\n",
        "$$h_1 = x * W_1 + b_1$$\n",
        "\n",
        "In addition to linear transformation, apply a non-linear function $\\sigma(\\cdot)$ elementwise to the above hidden vector $h_1$\n",
        "\n",
        "$$z_1 = \\sigma (h_1) $$\n",
        "\n",
        "We have essentially generated a set of features $z_1$ from $x$. This set of features can be used as input to another linear model to predict $y$. Let us specify another set of parameter $W_2 \\in \\mathbb{R}^l, b_2 \\in \\mathbb{R}$. The prediction is:\n",
        "\n",
        "$$y_{pred} = z_1 * W_2 + b_2$$\n",
        "\n",
        "A input-output mapping from $x$ to $y_{pred}$ can be compactly written as below:\n",
        "\n",
        "$$y_{pred} = \\sigma(x * W_1 + b_1) * W_2 + b_2$$\n",
        "\n",
        "We have just defined a simplest MLP. In simple words, MLP is defined by alternately stacking linear mappings ($W_1,b_1$) and nonlinear function ($\\sigma(\\cdot)$). Now, instead of having parameter $w,w_0$ in linear model, we have parameters $W_1,b_1,W_2,b_2$ in our simple MLP. Though this inevitably introduces more parameters, the model becomes more expressive and powerful as well.\n",
        "\n",
        "We can define our model as: $$ f(x) = y_{pred} =  \\sigma(x * W_1 + b_1) * W_2 + b_2$$\n",
        "\n",
        "1. x has dimension Nx1\n",
        "2. $W_1$ has dimension 1x100\n",
        "3. $b_1$ has dimension 1x1\n",
        "4. $W_2$ has dimension 100x1\n",
        "5. $b_2$ has dimension 1x1"
      ],
      "id": "Yc_0yAd30bi7"
    },
    {
      "cell_type": "code",
      "metadata": {
        "id": "ZCkzy3Gm0bi7"
      },
      "source": [
        "model = tf.keras.models.Sequential([\n",
        "          tf.keras.layers.Dense(100, activation='relu'),\n",
        "          tf.keras.layers.Dense(1)\n",
        "        ])\n",
        "y_hat = tf.cast(model(x), tf.double)\n",
        "optimizer = tf.keras.optimizers.Adam(learning_rate=0.001)"
      ],
      "id": "ZCkzy3Gm0bi7",
      "execution_count": 4,
      "outputs": []
    },
    {
      "cell_type": "code",
      "metadata": {
        "colab": {
          "base_uri": "https://localhost:8080/",
          "height": 265
        },
        "id": "FPBaNIzp0bi7",
        "outputId": "fdde5c4a-975b-4545-fe51-093cc97c7c46"
      },
      "source": [
        "# visualize model predictions\n",
        "plt.scatter(x, y, label=\"ground-truth\")\n",
        "plt.scatter(x, y_hat, label=\"prediction\")\n",
        "plt.legend(loc=\"upper right\")\n",
        "plt.show()"
      ],
      "id": "FPBaNIzp0bi7",
      "execution_count": 5,
      "outputs": [
        {
          "output_type": "display_data",
          "data": {
            "image/png": "[encoded data removed]",
            "text/plain": [
              "<Figure size 432x288 with 1 Axes>"
            ]
          },
          "metadata": {
            "tags": [],
            "needs_background": "light"
          }
        }
      ]
    },
    {
      "cell_type": "markdown",
      "metadata": {
        "id": "CifsD5Cl0bi8"
      },
      "source": [
        "### Loss\n",
        "We need a loss function that will evaluate the quality of model predictions against ground truth labels y. \n",
        "\n",
        "Let's use $L(\\hat{y}, y) = (\\hat{y}-y)^2$. "
      ],
      "id": "CifsD5Cl0bi8"
    },
    {
      "cell_type": "code",
      "metadata": {
        "colab": {
          "base_uri": "https://localhost:8080/"
        },
        "id": "bzFNY0Ad0bi8",
        "outputId": "80c65349-e773-458f-e56a-96ce6f6919a2"
      },
      "source": [
        "L = tf.reduce_mean(((y_hat-y)**2))\n",
        "print(\"The loss or error in the model's predictions compared to the ground truth is %.4f\" % (L))"
      ],
      "id": "bzFNY0Ad0bi8",
      "execution_count": 6,
      "outputs": [
        {
          "output_type": "stream",
          "text": [
            "The loss or error in the model's predictions compared to the ground truth is 2.1717\n"
          ],
          "name": "stdout"
        }
      ]
    },
    {
      "cell_type": "markdown",
      "metadata": {
        "id": "DgyoV1ZX0bi8"
      },
      "source": [
        "### Optimization (training the model) \n",
        "Now we will optimize our model f until the loss is below a threshold. We have already discussed the general recipe at the very beginning of this tutorial."
      ],
      "id": "DgyoV1ZX0bi8"
    },
    {
      "cell_type": "code",
      "metadata": {
        "id": "iZQ9sBDv0bi8"
      },
      "source": [
        "alpha = 0.001\n",
        "error_tolerance = 0.01"
      ],
      "id": "iZQ9sBDv0bi8",
      "execution_count": 7,
      "outputs": []
    },
    {
      "cell_type": "code",
      "metadata": {
        "colab": {
          "base_uri": "https://localhost:8080/"
        },
        "id": "4Du76EQE0bi8",
        "outputId": "4fa80c13-04d2-4004-ab11-54bbf786d9a2"
      },
      "source": [
        "while L > error_tolerance:\n",
        "    with tf.GradientTape() as tape:\n",
        "        # forward pass\n",
        "        y_hat = tf.cast(model(x), tf.double)\n",
        "        L = tf.reduce_mean((y_hat-y)**2)\n",
        "\n",
        "    print(L.numpy())\n",
        "\n",
        "    # backward pass\n",
        "    gradients = tape.gradient(L, model.trainable_variables)\n",
        "        \n",
        "    # update parameters\n",
        "    optimizer.apply_gradients(zip(gradients, model.trainable_variables))\n",
        "        "
      ],
      "id": "4Du76EQE0bi8",
      "execution_count": 8,
      "outputs": [
        {
          "output_type": "stream",
          "text": [
            "2.171659045205598\n",
            "2.148037561478039\n",
            "2.12469202318463\n",
            "2.101679933647703\n",
            "2.078852201479294\n",
            "2.0560084234735108\n",
            "2.03313720854673\n",
            "2.0102450903102302\n",
            "1.9873189737246066\n",
            "1.9643619250731765\n",
            "1.941424339810358\n",
            "1.9185621655885705\n",
            "1.8957975461762235\n",
            "1.8731339866865124\n",
            "1.8505936332566053\n",
            "1.828202374457327\n",
            "1.8059752217008245\n",
            "1.783906866330491\n",
            "1.7619941327723165\n",
            "1.740237376780687\n",
            "1.7186360355024672\n",
            "1.6971961640930597\n",
            "1.6759282053547377\n",
            "1.6548398717400876\n",
            "1.6339240485670674\n",
            "1.6131788253997537\n",
            "1.5926024736732645\n",
            "1.5721916337908026\n",
            "1.5519429989971791\n",
            "1.5318533425013015\n",
            "1.511919612157325\n",
            "1.4921390441068885\n",
            "1.4725093741578392\n",
            "1.45302921177704\n",
            "1.4336983486904602\n",
            "1.414518167966844\n",
            "1.3954910295009413\n",
            "1.3766163537051586\n",
            "1.3578968721791744\n",
            "1.3393375451347194\n",
            "1.3209454958007323\n",
            "1.3027306220768406\n",
            "1.2847061962891795\n",
            "1.2668895994323242\n",
            "1.2493013519160654\n",
            "1.2319488575416098\n",
            "1.214829755452952\n",
            "1.1979417347290109\n",
            "1.1812823144607616\n",
            "1.1648506568122101\n",
            "1.1486494269762109\n",
            "1.132681179309384\n",
            "1.116948555675124\n",
            "1.1014541026805442\n",
            "1.0862002812648792\n",
            "1.0711897699134656\n",
            "1.0564250272484315\n",
            "1.041908788771209\n",
            "1.0276437374861473\n",
            "1.0136327087929027\n",
            "0.9998788127336596\n",
            "0.9863852474820356\n",
            "0.9731555093344514\n",
            "0.9601933860832752\n",
            "0.9475027893868788\n",
            "0.9350878704470768\n",
            "0.9229455149808531\n",
            "0.9110687858564135\n",
            "0.8994579998744546\n",
            "0.8881136967689915\n",
            "0.8770363123163941\n",
            "0.8662264564972253\n",
            "0.8556846428476885\n",
            "0.8454111924182204\n",
            "0.8354019851758486\n",
            "0.8256460793937361\n",
            "0.8161383413449286\n",
            "0.8068661136596166\n",
            "0.797822827602951\n",
            "0.7890031197732413\n",
            "0.7804013520659068\n",
            "0.7720119906239074\n",
            "0.7638296960552858\n",
            "0.7558484793023814\n",
            "0.7480633539605981\n",
            "0.740469595444871\n",
            "0.7330624472897602\n",
            "0.7258369291141841\n",
            "0.7187878223567422\n",
            "0.7119095087448198\n",
            "0.7051943867864201\n",
            "0.6986338319880311\n",
            "0.692220428835307\n",
            "0.6859355770656855\n",
            "0.679763974898796\n",
            "0.673698872889502\n",
            "0.6677336874334507\n",
            "0.6618582685727088\n",
            "0.6560641391248426\n",
            "0.6503462264812516\n",
            "0.6446998695916691\n",
            "0.6391206720562242\n",
            "0.6336045283742077\n",
            "0.6281475026432556\n",
            "0.6227457199392398\n",
            "0.617395417343633\n",
            "0.6120927491272008\n",
            "0.6068338667509667\n",
            "0.6016142091500886\n",
            "0.5964241565137172\n",
            "0.5912568901207153\n",
            "0.5861087041368306\n",
            "0.5809774110857375\n",
            "0.575862084878124\n",
            "0.5707626940492347\n",
            "0.5656793905106395\n",
            "0.5606125062653972\n",
            "0.5555624443996501\n",
            "0.5505296483800288\n",
            "0.5455145003879507\n",
            "0.5405166258715657\n",
            "0.5355363613963776\n",
            "0.5305743404864366\n",
            "0.5256311443443825\n",
            "0.5207069982202989\n",
            "0.5157997577522412\n",
            "0.5109097063886885\n",
            "0.5060378315559536\n",
            "0.5011850739542387\n",
            "0.4963524270671382\n",
            "0.49154080094534264\n",
            "0.48675113869643144\n",
            "0.48198432369470884\n",
            "0.4772411873837611\n",
            "0.472522506401067\n",
            "0.46782901926968606\n",
            "0.46316139889541974\n",
            "0.45852023266368286\n",
            "0.453906042696638\n",
            "0.4493192274699894\n",
            "0.44476014426670957\n",
            "0.4402290156509904\n",
            "0.4357260201418808\n",
            "0.4312511538821696\n",
            "0.426804355569013\n",
            "0.4223847208049897\n",
            "0.41799174004374706\n",
            "0.413624633527255\n",
            "0.40928218439263103\n",
            "0.40496439950989754\n",
            "0.40066996899275403\n",
            "0.39639840344615573\n",
            "0.39215000750733986\n",
            "0.38792505494425844\n",
            "0.38372381005605005\n",
            "0.3795464466778246\n",
            "0.37539302186933626\n",
            "0.37126380053900115\n",
            "0.3671591678802078\n",
            "0.36307938095916387\n",
            "0.359024241333502\n",
            "0.3549940650787973\n",
            "0.3509892773107853\n",
            "0.3470102795194094\n",
            "0.34305743830619456\n",
            "0.3391311561902761\n",
            "0.33523177147550715\n",
            "0.331359627828938\n",
            "0.32751504159409\n",
            "0.32369828963180963\n",
            "0.3199096376800794\n",
            "0.31614932656978517\n",
            "0.3124175779548897\n",
            "0.308714554278189\n",
            "0.30504042705218176\n",
            "0.301395356735075\n",
            "0.2977794227942032\n",
            "0.2941927322768109\n",
            "0.2906353551794577\n",
            "0.2871070754939066\n",
            "0.2836072442181321\n",
            "0.28013576030444837\n",
            "0.2766926506109488\n",
            "0.27327811900689875\n",
            "0.269892357860311\n",
            "0.26653555045167576\n",
            "0.26320787581446586\n",
            "0.25990947184521\n",
            "0.2566404782477311\n",
            "0.25340101051808334\n",
            "0.25019115371918876\n",
            "0.24701101423423324\n",
            "0.2438606489343453\n",
            "0.24074011417283692\n",
            "0.23764944914279762\n",
            "0.2345886534164053\n",
            "0.23155779108397684\n",
            "0.22855644555752597\n",
            "0.22558439377005862\n",
            "0.22264173356349784\n",
            "0.21972848395387026\n",
            "0.2168447084678782\n",
            "0.2139904483953074\n",
            "0.2111657205335418\n",
            "0.20837049669612023\n",
            "0.20560478746343197\n",
            "0.2028682322124524\n",
            "0.20016080732672045\n",
            "0.19748256198549538\n",
            "0.19483347862458028\n",
            "0.1922135723077542\n",
            "0.18962283395278293\n",
            "0.18706121181749324\n",
            "0.18452871113789\n",
            "0.18202525130104308\n",
            "0.17955079727637885\n",
            "0.17710525845886876\n",
            "0.1746885889886286\n",
            "0.17230066878456235\n",
            "0.16994140117691564\n",
            "0.16761069907889087\n",
            "0.16530843628185024\n",
            "0.1630344148074174\n",
            "0.1607883147875255\n",
            "0.15857001822418093\n",
            "0.15637944252930705\n",
            "0.15421648396102322\n",
            "0.15208102854731648\n",
            "0.14997296282045827\n",
            "0.14789215824316476\n",
            "0.14583851767717373\n",
            "0.143811901281539\n",
            "0.1418121710195933\n",
            "0.13983919394297087\n",
            "0.137892759674722\n",
            "0.13597266510071468\n",
            "0.13407880940786604\n",
            "0.13221102586882402\n",
            "0.13036910738927643\n",
            "0.12855291511103978\n",
            "0.1267623594669335\n",
            "0.12499728156400738\n",
            "0.12325743650648176\n",
            "0.12154270814027691\n",
            "0.1198530066434209\n",
            "0.11818820869205404\n",
            "0.11654821479344342\n",
            "0.11493288229975196\n",
            "0.11334211503444397\n",
            "0.11177576092231173\n",
            "0.11023369597658143\n",
            "0.10871578150346563\n",
            "0.10722186217842447\n",
            "0.10575179586265604\n",
            "0.10430542128005878\n",
            "0.1028825803250042\n",
            "0.10148308891609975\n",
            "0.1001068033040559\n",
            "0.09875353801420687\n",
            "0.0974230868079466\n",
            "0.09611528002062324\n",
            "0.09482991344433293\n",
            "0.09356681483325975\n",
            "0.0923257551102458\n",
            "0.09110653181595471\n",
            "0.08990892952201511\n",
            "0.08873273235970627\n",
            "0.08757771984593606\n",
            "0.08644367262289036\n",
            "0.0853303554899926\n",
            "0.0842375378949253\n",
            "0.08316497475792398\n",
            "0.08211241387582117\n",
            "0.0810796240084625\n",
            "0.0800663597629146\n",
            "0.07907234353849776\n",
            "0.07809734100161601\n",
            "0.07714108004114853\n",
            "0.07620329376028524\n",
            "0.07528371575456375\n",
            "0.07438208240561871\n",
            "0.07349809906210146\n",
            "0.0726315001923911\n",
            "0.07178199892929547\n",
            "0.07094931174733793\n",
            "0.07013315757961046\n",
            "0.06933322649617207\n",
            "0.0685492541120601\n",
            "0.06778092040454653\n",
            "0.06702792795074405\n",
            "0.06628997570706402\n",
            "0.06556674897425825\n",
            "0.06485798070495719\n",
            "0.0641633572630737\n",
            "0.06348259144680174\n",
            "0.0628153939347281\n",
            "0.06216147679632403\n",
            "0.06152055162250349\n",
            "0.060892327366555685\n",
            "0.06027654351613947\n",
            "0.059672909044961225\n",
            "0.05908114480506536\n",
            "0.05850097972095383\n",
            "0.05793215777918507\n",
            "0.05737440269507881\n",
            "0.05682743784883628\n",
            "0.056290998779355235\n",
            "0.05576483328640826\n",
            "0.05524865958084515\n",
            "0.05474222535114034\n",
            "0.05424525940889844\n",
            "0.05375747871951526\n",
            "0.05327862142349307\n",
            "0.052808411521028234\n",
            "0.05234657892849998\n",
            "0.051892856642315736\n",
            "0.05144694539593338\n",
            "0.05100858728656597\n",
            "0.050577485547041716\n",
            "0.050153397446777194\n",
            "0.04973602120117848\n",
            "0.049325103207907874\n",
            "0.04892036504568245\n",
            "0.04852156274944681\n",
            "0.04812843551788448\n",
            "0.04774073746068485\n",
            "0.047358239614979904\n",
            "0.0469807294685039\n",
            "0.0466079894687047\n",
            "0.04623980691793257\n",
            "0.0458760259998084\n",
            "0.04551645313923811\n",
            "0.04516094763759958\n",
            "0.04480935278362586\n",
            "0.044461564945283305\n",
            "0.04411745603813039\n",
            "0.0437769299458251\n",
            "0.04343991869668065\n",
            "0.043106337284663766\n",
            "0.042776155676531764\n",
            "0.0424493170500654\n",
            "0.04212579997668104\n",
            "0.041805573423729814\n",
            "0.04148865052235994\n",
            "0.041175024368801716\n",
            "0.04086470014381213\n",
            "0.04055770507695655\n",
            "0.04025405261587641\n",
            "0.039953767658958514\n",
            "0.0396568890808039\n",
            "0.03936344130103654\n",
            "0.03907344643420984\n",
            "0.038786934028300496\n",
            "0.03850393816947762\n",
            "0.03822445781078919\n",
            "0.03794852225664306\n",
            "0.03767611970203409\n",
            "0.03740727615999044\n",
            "0.03714197048826184\n",
            "0.03688018355949208\n",
            "0.036621891714067684\n",
            "0.03636707069159699\n",
            "0.03611566958698075\n",
            "0.0358676336847959\n",
            "0.03562290827673804\n",
            "0.03538143646396005\n",
            "0.035143138737665905\n",
            "0.03490793474149971\n",
            "0.034675734362218\n",
            "0.034446447787198256\n",
            "0.034219982896959586\n",
            "0.0339962445141115\n",
            "0.03377512970958872\n",
            "0.03355651882687253\n",
            "0.03334032697938475\n",
            "0.03312644099088069\n",
            "0.03291475825217763\n",
            "0.03270516617619169\n",
            "0.0324975648096211\n",
            "0.03229184608831408\n",
            "0.03208791377890549\n",
            "0.03188566034136693\n",
            "0.03168499209914665\n",
            "0.03148581167689603\n",
            "0.03128802682881552\n",
            "0.031091534332587253\n",
            "0.0308962671104959\n",
            "0.03070212986471557\n",
            "0.030509045069036286\n",
            "0.03031692440476762\n",
            "0.030125697128895672\n",
            "0.029935302084199436\n",
            "0.029745660749893297\n",
            "0.02955670604610337\n",
            "0.029368389916540387\n",
            "0.029180655787308763\n",
            "0.028993446396950878\n",
            "0.028806721811129057\n",
            "0.028620450053490027\n",
            "0.02843456523758373\n",
            "0.02824906801489082\n",
            "0.028063894711857357\n",
            "0.027879058681256414\n",
            "0.02769451378349637\n",
            "0.027510260496083253\n",
            "0.027326274797738585\n",
            "0.02714257100671914\n",
            "0.02695913951661537\n",
            "0.026775981902912607\n",
            "0.02659309701769417\n",
            "0.026410501400222653\n",
            "0.02622822233452522\n",
            "0.02604625695288558\n",
            "0.025864632994565956\n",
            "0.02568338006282568\n",
            "0.025502503348620417\n",
            "0.02532204732375903\n",
            "0.025142032803403203\n",
            "0.024962487620374674\n",
            "0.02478344706429187\n",
            "0.024604937584531424\n",
            "0.024426990580847397\n",
            "0.02424964070488548\n",
            "0.02407291795682446\n",
            "0.02389685075214164\n",
            "0.023721480850046144\n",
            "0.02354682027487829\n",
            "0.023372915490269278\n",
            "0.023199786105698776\n",
            "0.023027464496329312\n",
            "0.02285597750568819\n",
            "0.022685350539810467\n",
            "0.022515621598950073\n",
            "0.022346799828550427\n",
            "0.022178927657990146\n",
            "0.022012019202437023\n",
            "0.0218461018766556\n",
            "0.021681192286937392\n",
            "0.021517307905611325\n",
            "0.021354473062667984\n",
            "0.021192708556748936\n",
            "0.021032024244389172\n",
            "0.0208724353993952\n",
            "0.02071395847616493\n",
            "0.020556611583072242\n",
            "0.020400400981710365\n",
            "0.02024533329277624\n",
            "0.020091419333500567\n",
            "0.01993867075953921\n",
            "0.019787091411205236\n",
            "0.019636686783635747\n",
            "0.019487460301239712\n",
            "0.01933942034425225\n",
            "0.019192562721881024\n",
            "0.019046893721007183\n",
            "0.018902406976810893\n",
            "0.018759109849610718\n",
            "0.018616993656374547\n",
            "0.018476062502424253\n",
            "0.01833631155066951\n",
            "0.018197736270899458\n",
            "0.018060339690545574\n",
            "0.017924112122253297\n",
            "0.017789046641673367\n",
            "0.017655147244933427\n",
            "0.017522405038995426\n",
            "0.01739081323689225\n",
            "0.017260370449562443\n",
            "0.01713106361818108\n",
            "0.017002888144238677\n",
            "0.016875846119815203\n",
            "0.016749922789189218\n",
            "0.016625114884753236\n",
            "0.01650141954011398\n",
            "0.01637882228698186\n",
            "0.0162573232775164\n",
            "0.016136912248186832\n",
            "0.016017586638015755\n",
            "0.015899335075295517\n",
            "0.015782158390672953\n",
            "0.015666036987814203\n",
            "0.015550977472634259\n",
            "0.015436966212698059\n",
            "0.015323996685016874\n",
            "0.015212060033439997\n",
            "0.015101155855627909\n",
            "0.014991269028385858\n",
            "0.014882391641822156\n",
            "0.014774525508755122\n",
            "0.014667652742520928\n",
            "0.014561773515437755\n",
            "0.014456872507397116\n",
            "0.014352949821729124\n",
            "0.014249991707372492\n",
            "0.014147996100854305\n",
            "0.014046948748082199\n",
            "0.013946847191017889\n",
            "0.013847679818820251\n",
            "0.013749440312488972\n",
            "0.013652119860092578\n",
            "0.013555712107716007\n",
            "0.013460208125965203\n",
            "0.013365597905556553\n",
            "0.013271877067874908\n",
            "0.013179034238530118\n",
            "0.013087062924688067\n",
            "0.012995953060140241\n",
            "0.01290570047440716\n",
            "0.012816290732789887\n",
            "0.012727719240499593\n",
            "0.012639980027324386\n",
            "0.012553058223642595\n",
            "0.012466951111286116\n",
            "0.012381649525165307\n",
            "0.01229714095910558\n",
            "0.01221342303852169\n",
            "0.012130484434173838\n",
            "0.012048315315152925\n",
            "0.011966910171381857\n",
            "0.011886260093603477\n",
            "0.01180635400204107\n",
            "0.011727189886985784\n",
            "0.011648754152760017\n",
            "0.011571041635557526\n",
            "0.011494043249653764\n",
            "0.011417752086594351\n",
            "0.011342156552538476\n",
            "0.011267252357064354\n",
            "0.011193032593827503\n",
            "0.011119485803013592\n",
            "0.01104660940951283\n",
            "0.010974391756316183\n",
            "0.010902826339493984\n",
            "0.010831909140092485\n",
            "0.010761625966346847\n",
            "0.010691976791855873\n",
            "0.010622949509613431\n",
            "0.01055454292988279\n",
            "0.01048674087342481\n",
            "0.010419545170260771\n",
            "0.010352944387220108\n",
            "0.010286932283828765\n",
            "0.01022150514902078\n",
            "0.010156649683485258\n",
            "0.010092367219106706\n",
            "0.01002864634660326\n",
            "0.009965485663358122\n"
          ],
          "name": "stdout"
        }
      ]
    },
    {
      "cell_type": "code",
      "metadata": {
        "colab": {
          "base_uri": "https://localhost:8080/",
          "height": 265
        },
        "id": "sY8-AI9o0bi9",
        "outputId": "fa554961-da75-4d2a-e431-29e90efb4d61"
      },
      "source": [
        "# visualize model predictions\n",
        "plt.scatter(x, y, label=\"ground-truth\")\n",
        "plt.scatter(x, y_hat, label=\"prediction\")\n",
        "plt.legend(loc=\"upper right\")\n",
        "plt.show()"
      ],
      "id": "sY8-AI9o0bi9",
      "execution_count": 9,
      "outputs": [
        {
          "output_type": "display_data",
          "data": {
            "image/png": "[encoded data removed]",
            "text/plain": [
              "<Figure size 432x288 with 1 Axes>"
            ]
          },
          "metadata": {
            "tags": [],
            "needs_background": "light"
          }
        }
      ]
    },
    {
      "cell_type": "markdown",
      "metadata": {
        "id": "zxpEHkik0bi9"
      },
      "source": [
        "## Harder Example\n",
        "\n",
        "### Dataset\n",
        "Let's collect a dataset of x,y samples where: $$y = sin(x) + \\epsilon$$ \n",
        "\n",
        "$$X = [x_1, x_2, x_3, ..., x_N]^T$$\n",
        "$$Y = [y_1, y_2, y_3, ..., y_N]^T$$ \n",
        "\n",
        "1. xi is a real value, so X has dimensions Nx1\n",
        "2. yi is a real value, so Y has dimensions Nx1\n",
        "3. $\\epsilon \\sim \\mathcal{N}(0,1)$"
      ],
      "id": "zxpEHkik0bi9"
    },
    {
      "cell_type": "code",
      "metadata": {
        "colab": {
          "base_uri": "https://localhost:8080/"
        },
        "id": "rVGBj1HI0bi9",
        "outputId": "6340b429-ed0b-45ff-d378-b99bca8929c2"
      },
      "source": [
        "x = tf.expand_dims(tf.linspace(start=-10, stop=10, num=10000), 1)  # 10000 equally spaced values between [-10, 10]\n",
        "y = tf.sin(x) + 0.2*tf.random.normal(shape=x.shape, dtype=tf.double)\n",
        "\n",
        "print(x.shape, y.shape)"
      ],
      "id": "rVGBj1HI0bi9",
      "execution_count": 10,
      "outputs": [
        {
          "output_type": "stream",
          "text": [
            "(10000, 1) (10000, 1)\n"
          ],
          "name": "stdout"
        }
      ]
    },
    {
      "cell_type": "code",
      "metadata": {
        "colab": {
          "base_uri": "https://localhost:8080/",
          "height": 265
        },
        "id": "0JEBkDnl0bi9",
        "outputId": "098a3007-24fa-40d7-b851-fb86a73b9410"
      },
      "source": [
        "plt.scatter(x, y)\n",
        "plt.show()"
      ],
      "id": "0JEBkDnl0bi9",
      "execution_count": 11,
      "outputs": [
        {
          "output_type": "display_data",
          "data": {
            "image/png": "[encoded data removed]",
            "text/plain": [
              "<Figure size 432x288 with 1 Axes>"
            ]
          },
          "metadata": {
            "tags": [],
            "needs_background": "light"
          }
        }
      ]
    },
    {
      "cell_type": "markdown",
      "metadata": {
        "id": "GFIKkX5Z0bi9"
      },
      "source": [
        "Let's also collect a test dataset that we will use to evaluate the model."
      ],
      "id": "GFIKkX5Z0bi9"
    },
    {
      "cell_type": "code",
      "metadata": {
        "id": "_1BZkg8B0bi-"
      },
      "source": [
        "x_test = tf.expand_dims(tf.linspace(start=-10, stop=10, num=5000), 1)  \n",
        "y_test = tf.sin(x_test) "
      ],
      "id": "_1BZkg8B0bi-",
      "execution_count": 12,
      "outputs": []
    },
    {
      "cell_type": "markdown",
      "metadata": {
        "id": "JRxLDAuX0bi-"
      },
      "source": [
        "Now it's your turn to define and train the model for this new dataset. You can copy code from the previous example.\n",
        "### Model"
      ],
      "id": "JRxLDAuX0bi-"
    },
    {
      "cell_type": "code",
      "metadata": {
        "id": "Pv5kSh3n0bi-"
      },
      "source": [
        "# TODO: Define the model, the optimizer, and predictor y_hat\r\n",
        "\r\n",
        "import keras\r\n",
        "from keras.models import Sequential\r\n",
        "from keras import models, layers\r\n",
        "from keras.datasets import mnist\r\n",
        "from keras.utils import np_utils\r\n",
        "from tensorflow.keras.layers import BatchNormalization\r\n",
        "\r\n",
        "model = Sequential()\r\n",
        "model.add(BatchNormalization(trainable=True))\r\n",
        "model.add(layers.Dropout(0.2))\r\n",
        "\r\n",
        "model.add(layers.Dense(128, activation='relu',kernel_initializer='normal'))\r\n",
        "model.add(BatchNormalization(trainable=True))\r\n",
        "model.add(layers.Dropout(0.3))\r\n",
        "\r\n",
        "model.add(layers.Dense(256, activation='relu',kernel_initializer='normal'))\r\n",
        "model.add(BatchNormalization(trainable=True))\r\n",
        "model.add(layers.Dropout(0.3))\r\n",
        "\r\n",
        "model.add(layers.Dense(256, activation='relu',kernel_initializer='normal'))\r\n",
        "model.add(BatchNormalization(trainable=True))\r\n",
        "model.add(layers.Dropout(0.3))\r\n",
        "\r\n",
        "model.add(layers.Dense(1))\r\n",
        "\r\n",
        "y_hat = tf.cast(model(x_test), tf.double)\r\n",
        "optimizer = tf.keras.optimizers.Adam(learning_rate=0.001)"
      ],
      "id": "Pv5kSh3n0bi-",
      "execution_count": 13,
      "outputs": []
    },
    {
      "cell_type": "code",
      "metadata": {
        "colab": {
          "base_uri": "https://localhost:8080/",
          "height": 265
        },
        "id": "ruh-qCE30bi-",
        "outputId": "00df1f7f-14d6-4d42-df9d-02e33aabd747"
      },
      "source": [
        "# TODO: plot initial predictions\r\n",
        "\r\n",
        "plt.scatter(x, y, label=\"ground-truth\")\r\n",
        "plt.scatter(x_test, y_hat, label=\"prediction\")\r\n",
        "plt.legend(loc=\"upper right\")\r\n",
        "plt.show()"
      ],
      "id": "ruh-qCE30bi-",
      "execution_count": 14,
      "outputs": [
        {
          "output_type": "display_data",
          "data": {
            "image/png": "[encoded data removed]",
            "text/plain": [
              "<Figure size 432x288 with 1 Axes>"
            ]
          },
          "metadata": {
            "tags": [],
            "needs_background": "light"
          }
        }
      ]
    },
    {
      "cell_type": "markdown",
      "metadata": {
        "id": "DOGqLDTl0bi-"
      },
      "source": [
        "### Loss"
      ],
      "id": "DOGqLDTl0bi-"
    },
    {
      "cell_type": "code",
      "metadata": {
        "colab": {
          "base_uri": "https://localhost:8080/"
        },
        "id": "PS47a5460bi_",
        "outputId": "86451f4f-3659-4ddc-8fe6-e2785f167449"
      },
      "source": [
        "# TODO: Define loss function and print initial loss\r\n",
        "\r\n",
        "L = tf.reduce_mean(((y_hat-y_test)**2))\r\n",
        "print(\"The loss or error in the model's predictions compared to the ground truth is %.4f\" % (L))"
      ],
      "id": "PS47a5460bi_",
      "execution_count": 15,
      "outputs": [
        {
          "output_type": "stream",
          "text": [
            "The loss or error in the model's predictions compared to the ground truth is 0.4855\n"
          ],
          "name": "stdout"
        }
      ]
    },
    {
      "cell_type": "markdown",
      "metadata": {
        "id": "ydmgBIZr0bi_"
      },
      "source": [
        "### Optimization \n",
        "Finally, train the model!"
      ],
      "id": "ydmgBIZr0bi_"
    },
    {
      "cell_type": "code",
      "metadata": {
        "colab": {
          "base_uri": "https://localhost:8080/"
        },
        "id": "b2iC6jx00bi_",
        "outputId": "f94e0ca3-2238-43ea-b693-2e0d817e12eb"
      },
      "source": [
        "# TODO: Train the model\r\n",
        "\r\n",
        "alpha = 0.001\r\n",
        "error_tolerance = 0.0005\r\n",
        "\r\n",
        "while L > error_tolerance:\r\n",
        "    with tf.GradientTape() as tape:\r\n",
        "        # forward pass\r\n",
        "        y_hat = tf.cast(model(x_test), tf.double)\r\n",
        "        L = tf.reduce_mean((y_hat-y_test)**2)\r\n",
        "\r\n",
        "    print(L.numpy())\r\n",
        "\r\n",
        "    # backward pass\r\n",
        "    gradients = tape.gradient(L, model.trainable_variables)\r\n",
        "        \r\n",
        "    # update parameters\r\n",
        "    optimizer.apply_gradients(zip(gradients, model.trainable_variables))"
      ],
      "id": "b2iC6jx00bi_",
      "execution_count": 16,
      "outputs": [
        {
          "output_type": "stream",
          "text": [
            "0.48546356450339645\n",
            "0.4595920345660131\n",
            "0.46554195634166173\n",
            "0.466163122813305\n",
            "0.46037527763999025\n",
            "0.45614259567586835\n",
            "0.4554819578530778\n",
            "0.45640819897717166\n",
            "0.45653965696449494\n",
            "0.45537309322523234\n",
            "0.4531440049098057\n",
            "0.4510082031819268\n",
            "0.44964907589091163\n",
            "0.44868586168557506\n",
            "0.4480209458027457\n",
            "0.446930170854835\n",
            "0.4449094444575938\n",
            "0.44276446844971196\n",
            "0.4405358003374626\n",
            "0.4388380133557083\n",
            "0.43673723317685564\n",
            "0.43444808497628357\n",
            "0.43205814631707273\n",
            "0.42934803371204455\n",
            "0.4267744694400282\n",
            "0.42380761224265623\n",
            "0.42070833192566526\n",
            "0.41741365326629165\n",
            "0.413887156380819\n",
            "0.4101715778849222\n",
            "0.4060674762476796\n",
            "0.40196323420347646\n",
            "0.39753138882142364\n",
            "0.3928775951158251\n",
            "0.3878614634777822\n",
            "0.38249381736736543\n",
            "0.3766152924909567\n",
            "0.3703054118278208\n",
            "0.36345065341290295\n",
            "0.35611955389954536\n",
            "0.34769616248566365\n",
            "0.3386233602025312\n",
            "0.32882458483320426\n",
            "0.3180613079429998\n",
            "0.306141306851673\n",
            "0.2933313300399946\n",
            "0.2798423708658676\n",
            "0.26530130722379247\n",
            "0.25059402137569514\n",
            "0.23574538289785252\n",
            "0.2236261406013001\n",
            "0.2128457345524137\n",
            "0.19482850494261894\n",
            "0.18359453059001557\n",
            "0.17615346682802843\n",
            "0.16290738644732292\n",
            "0.15849664127278928\n",
            "0.1511614841075989\n",
            "0.14435105717573452\n",
            "0.14383441993748852\n",
            "0.13985846456434903\n",
            "0.1371528804380395\n",
            "0.1384126833003607\n",
            "0.13533067721826422\n",
            "0.13398302302172638\n",
            "0.1340252421630571\n",
            "0.13122788066752594\n",
            "0.13009197283347157\n",
            "0.1289212403666669\n",
            "0.1257565145167562\n",
            "0.12389477180061212\n",
            "0.12119374557279784\n",
            "0.11759159271247227\n",
            "0.11529361995374923\n",
            "0.11259041721736969\n",
            "0.10961682106867726\n",
            "0.10749187931659858\n",
            "0.10480522921465894\n",
            "0.10216470565874526\n",
            "0.10002354890401857\n",
            "0.09717345208751255\n",
            "0.09454406985120581\n",
            "0.09223042646356282\n",
            "0.08948584911756906\n",
            "0.0867415497400459\n",
            "0.08442137212968504\n",
            "0.08177788240319285\n",
            "0.07903336559834044\n",
            "0.07637903271000783\n",
            "0.07382968420743558\n",
            "0.07129101115617431\n",
            "0.06858638425288618\n",
            "0.06582731701006288\n",
            "0.06301484238039778\n",
            "0.06034633437143755\n",
            "0.058143138159051\n",
            "0.05684524543130947\n",
            "0.05710566926084928\n",
            "0.057519188962378745\n",
            "0.05304791925774691\n",
            "0.0454995647324009\n",
            "0.04426784856057068\n",
            "0.046235277621623085\n",
            "0.042955653852517046\n",
            "0.0369775043891719\n",
            "0.036220152066211875\n",
            "0.03752547547007802\n",
            "0.0345185543761527\n",
            "0.029503549151004303\n",
            "0.02848880875790506\n",
            "0.02958219772574298\n",
            "0.027860338204305543\n",
            "0.02391479557625519\n",
            "0.021228355730266695\n",
            "0.02116046009189957\n",
            "0.021874939926178495\n",
            "0.021189367425499726\n",
            "0.018731214650351616\n",
            "0.015741309916097474\n",
            "0.013872378865264306\n",
            "0.013428197542443999\n",
            "0.014083718867192192\n",
            "0.015438161987685982\n",
            "0.016902191909204282\n",
            "0.017171593336202943\n",
            "0.014465731960623859\n",
            "0.009786039133836499\n",
            "0.007574539240281712\n",
            "0.00898186061016552\n",
            "0.011003289450129594\n",
            "0.011095795500480352\n",
            "0.00889454652999545\n",
            "0.005898684442841042\n",
            "0.0050302174288386564\n",
            "0.0065369558964888125\n",
            "0.007713343368540569\n",
            "0.007090802802246847\n",
            "0.005434552704155795\n",
            "0.00388643523049916\n",
            "0.0033062703692577984\n",
            "0.003994603644241319\n",
            "0.005024846604408199\n",
            "0.005143250846706951\n",
            "0.004239319697528755\n",
            "0.003223610832134839\n",
            "0.002392440192393183\n",
            "0.0019389171678899125\n",
            "0.002212605261517544\n",
            "0.002880094014217129\n",
            "0.003318471611366133\n",
            "0.0034678477469699616\n",
            "0.003580133818196842\n",
            "0.0034037204625550982\n",
            "0.0027130167928596906\n",
            "0.0019262101154361676\n",
            "0.0014768830493104598\n",
            "0.0011915219939900301\n",
            "0.0009455655277016047\n",
            "0.0009626866796678169\n",
            "0.0012562671085137723\n",
            "0.0016045897219378429\n",
            "0.0019779448344554415\n",
            "0.002594917592550574\n",
            "0.0035678860967410927\n",
            "0.0046627516164498605\n",
            "0.005438301185149889\n",
            "0.005464891804942621\n",
            "0.0043955376629961134\n",
            "0.002368381961631053\n",
            "0.0007301910367280143\n",
            "0.000594910167070865\n",
            "0.0015752021876712622\n",
            "0.0025441424186857533\n",
            "0.0027575287153274344\n",
            "0.0021030461071500036\n",
            "0.0009887892874855641\n",
            "0.00034678454009386323\n"
          ],
          "name": "stdout"
        }
      ]
    },
    {
      "cell_type": "code",
      "metadata": {
        "colab": {
          "base_uri": "https://localhost:8080/",
          "height": 265
        },
        "id": "hyoWuXz70bi_",
        "outputId": "4afb5e5b-9f48-4885-af7e-2996dfa934b0"
      },
      "source": [
        "# TODO: Visualize model predictions\r\n",
        "plt.scatter(x, y, label=\"ground-truth\")\r\n",
        "plt.scatter(x_test, y_hat, label=\"prediction\")\r\n",
        "plt.legend(loc=\"upper right\")\r\n",
        "plt.show()"
      ],
      "id": "hyoWuXz70bi_",
      "execution_count": 17,
      "outputs": [
        {
          "output_type": "display_data",
          "data": {
            "image/png": "[encoded data removed]",
            "text/plain": [
              "<Figure size 432x288 with 1 Axes>"
            ]
          },
          "metadata": {
            "tags": [],
            "needs_background": "light"
          }
        }
      ]
    },
    {
      "cell_type": "code",
      "metadata": {
        "colab": {
          "base_uri": "https://localhost:8080/"
        },
        "id": "x4HkI7dm0bi_",
        "outputId": "b051a798-63a9-40ed-f792-d5f5a8844449"
      },
      "source": [
        "# DO NOT CHANGE\n",
        "\n",
        "# given predictions y_hat from the test input x_test\n",
        "print(\"test loss\", (tf.reduce_mean((y_test-y_hat)**2).numpy()))"
      ],
      "id": "x4HkI7dm0bi_",
      "execution_count": 18,
      "outputs": [
        {
          "output_type": "stream",
          "text": [
            "test loss 0.00034678454009386323\n"
          ],
          "name": "stdout"
        }
      ]
    },
    {
      "cell_type": "markdown",
      "metadata": {
        "id": "mthDKATX0bi_"
      },
      "source": [
        "## Conclusion\n",
        "We have only scratched the surface of deep learning. Try changing the model architecture for better performance!\n",
        "\n",
        "Both PyTorch and Tensorflow help us compute derivatives, which is what we ultimately need to incrementally improve the model through several forward and backward passes. \n",
        "\n",
        "Please check out more information about the different APIs here:\n",
        "\n",
        "PyTorch: https://pytorch.org/tutorials/beginner/blitz/neural_networks_tutorial.html\n",
        "\n",
        "Tensorflow 2: https://www.tensorflow.org/tutorials/quickstart/advanced"
      ],
      "id": "mthDKATX0bi_"
    }
  ]
}