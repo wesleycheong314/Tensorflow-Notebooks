{
  "nbformat": 4,
  "nbformat_minor": 5,
  "metadata": {
    "kernelspec": {
      "display_name": "Python 3",
      "language": "python",
      "name": "python3"
    },
    "language_info": {
      "codemirror_mode": {
        "name": "ipython",
        "version": 3
      },
      "file_extension": ".py",
      "mimetype": "text/x-python",
      "name": "python",
      "nbconvert_exporter": "python",
      "pygments_lexer": "ipython3",
      "version": "3.8.5"
    },
    "colab": {
      "name": "lab2_regression_tf.ipynb",
      "provenance": [],
      "toc_visible": true
    }
  },
  "cells": [
    {
      "cell_type": "markdown",
      "metadata": {
        "id": "AT21lIy60bi1"
      },
      "source": [
        "## Introduction to Deep Learning with TensorFlow 2\n",
        "\n",
        "This notebook will walk through the procedure of developing a neural network to solve a supervised learning problem with TensorFlow 2. Let's begin with an example of a regression problem:"
      ],
      "id": "AT21lIy60bi1"
    },
    {
      "cell_type": "markdown",
      "metadata": {
        "id": "uZGxRvoS0bi5"
      },
      "source": [
        "## Toy Example\n",
        "The requirements are the following:\n",
        "\n",
        "1. A dataset D = {$(x_1,y_1), (x_2,y_2), ..., (x_N, y_N)$} \n",
        "2. A parametric model f with a specified model architecture (i.e. the functional form of f).\n",
        "3. A loss function that evaluates the error in the outputs (predictions) of the model with respect to the ground truth labels y from the dataset D"
      ],
      "id": "uZGxRvoS0bi5"
    },
    {
      "cell_type": "code",
      "metadata": {
        "id": "Hund-aJ80bi5"
      },
      "source": [
        "import tensorflow as tf\n",
        "import matplotlib.pyplot as plt"
      ],
      "id": "Hund-aJ80bi5",
      "execution_count": 1,
      "outputs": []
    },
    {
      "cell_type": "markdown",
      "metadata": {
        "id": "uvybMPFk0bi5"
      },
      "source": [
        "### Dataset\n",
        "Let's collect a dataset of x,y samples where: $$y = 3x^2 + x - 2$$\n",
        "\n",
        "$$X = [x_1, x_2, x_3, ..., x_N]^T$$\n",
        "$$Y = [y_1, y_2, y_3, ..., y_N]^T$$ \n",
        "\n",
        "1. Each $x_i$ is a real number, so X has dimensions Nx1\n",
        "2. Each $y_i$ is a real number, so Y has dimensions Nx1"
      ],
      "id": "uvybMPFk0bi5"
    },
    {
      "cell_type": "code",
      "metadata": {
        "colab": {
          "base_uri": "https://localhost:8080/"
        },
        "id": "PccN0k1B0bi6",
        "outputId": "a3283ceb-4232-4240-d7d5-bca4d727e19f"
      },
      "source": [
        "x = tf.expand_dims(tf.linspace(start=-1, stop=1, num=10000), 1) # 10000 equally spaced values between [-1, 1]\n",
        "y = tf.cast(3*x**2 + x - 2, tf.double)\n",
        "\n",
        "print(x.shape, y.shape)"
      ],
      "id": "PccN0k1B0bi6",
      "execution_count": 2,
      "outputs": [
        {
          "output_type": "stream",
          "text": [
            "(10000, 1) (10000, 1)\n"
          ],
          "name": "stdout"
        }
      ]
    },
    {
      "cell_type": "code",
      "metadata": {
        "colab": {
          "base_uri": "https://localhost:8080/",
          "height": 282
        },
        "id": "irbfnyW-0bi6",
        "outputId": "4b64f864-3402-4a63-c149-595fcc9d4b02"
      },
      "source": [
        "# visualize the dataset\n",
        "plt.scatter(x, y)"
      ],
      "id": "irbfnyW-0bi6",
      "execution_count": 3,
      "outputs": [
        {
          "output_type": "execute_result",
          "data": {
            "text/plain": [
              "<matplotlib.collections.PathCollection at 0x7fb131759e50>"
            ]
          },
          "metadata": {
            "tags": []
          },
          "execution_count": 3
        },
        {
          "output_type": "display_data",
          "data": {
            "image/png": "[encoded data removed]",
            "text/plain": [
              "<Figure size 432x288 with 1 Axes>"
            ]
          },
          "metadata": {
            "tags": [],
            "needs_background": "light"
          }
        }
      ]
    },
    {
      "cell_type": "markdown",
      "metadata": {
        "id": "Nu_US7yp0bi7"
      },
      "source": [
        "### Model\n",
        "Let's define the model (i.e. the function f) that will map x to y. We assume that we do not know that y is a quadratic function of x. All we will assume is that x and y have a highly nonlinear relationship. Then, what should this function f be? A neural network, specifically a Multi-Layer Perceptron!"
      ],
      "id": "Nu_US7yp0bi7"
    },
    {
      "cell_type": "markdown",
      "metadata": {
        "id": "Yc_0yAd30bi7"
      },
      "source": [
        "**Multi-Layer Perceptron (MLP)**\n",
        "\n",
        "MLP is a generic yet useful neural network model. Consider a MLP for regression task, where we want to learn a mapping $x \\in \\mathbb{R}^k \\mapsto y \\in \\mathbb{R}$. The input $x$ is $k$-dimensional and $y$ is scalar. The simplest regression model is linear model with parameter $w \\in \\mathbb{R}^k$ and $w_0 \\in \\mathbb{R}$, we can propose to predict $y$ as $y_{pred} = w^T x + w_0$.\n",
        "\n",
        "MLP is a generalization of linear regression. Consider a linear transformation by matrix $W_1\\in\\mathbb{R}^{k\\times l}$ and bias vector $b_1\\in \\mathbb{R}^l$:\n",
        "\n",
        "$$h_1 = x * W_1 + b_1$$\n",
        "\n",
        "In addition to linear transformation, apply a non-linear function $\\sigma(\\cdot)$ elementwise to the above hidden vector $h_1$\n",
        "\n",
        "$$z_1 = \\sigma (h_1) $$\n",
        "\n",
        "We have essentially generated a set of features $z_1$ from $x$. This set of features can be used as input to another linear model to predict $y$. Let us specify another set of parameter $W_2 \\in \\mathbb{R}^l, b_2 \\in \\mathbb{R}$. The prediction is:\n",
        "\n",
        "$$y_{pred} = z_1 * W_2 + b_2$$\n",
        "\n",
        "A input-output mapping from $x$ to $y_{pred}$ can be compactly written as below:\n",
        "\n",
        "$$y_{pred} = \\sigma(x * W_1 + b_1) * W_2 + b_2$$\n",
        "\n",
        "We have just defined a simplest MLP. In simple words, MLP is defined by alternately stacking linear mappings ($W_1,b_1$) and nonlinear function ($\\sigma(\\cdot)$). Now, instead of having parameter $w,w_0$ in linear model, we have parameters $W_1,b_1,W_2,b_2$ in our simple MLP. Though this inevitably introduces more parameters, the model becomes more expressive and powerful as well.\n",
        "\n",
        "We can define our model as: $$ f(x) = y_{pred} =  \\sigma(x * W_1 + b_1) * W_2 + b_2$$\n",
        "\n",
        "1. x has dimension Nx1\n",
        "2. $W_1$ has dimension 1x100\n",
        "3. $b_1$ has dimension 1x1\n",
        "4. $W_2$ has dimension 100x1\n",
        "5. $b_2$ has dimension 1x1"
      ],
      "id": "Yc_0yAd30bi7"
    },
    {
      "cell_type": "code",
      "metadata": {
        "id": "ZCkzy3Gm0bi7"
      },
      "source": [
        "model = tf.keras.models.Sequential([\n",
        "          tf.keras.layers.Dense(100, activation='relu'),\n",
        "          tf.keras.layers.Dense(1)\n",
        "        ])\n",
        "y_hat = tf.cast(model(x), tf.double)\n",
        "optimizer = tf.keras.optimizers.Adam(learning_rate=0.001)"
      ],
      "id": "ZCkzy3Gm0bi7",
      "execution_count": 4,
      "outputs": []
    },
    {
      "cell_type": "code",
      "metadata": {
        "colab": {
          "base_uri": "https://localhost:8080/",
          "height": 265
        },
        "id": "FPBaNIzp0bi7",
        "outputId": "27e0bdad-a544-48ee-b222-3888eaf3584f"
      },
      "source": [
        "# visualize model predictions\n",
        "plt.scatter(x, y, label=\"ground-truth\")\n",
        "plt.scatter(x, y_hat, label=\"prediction\")\n",
        "plt.legend(loc=\"upper right\")\n",
        "plt.show()"
      ],
      "id": "FPBaNIzp0bi7",
      "execution_count": 5,
      "outputs": [
        {
          "output_type": "display_data",
          "data": {
            "image/png": "[encoded data removed]",
            "text/plain": [
              "<Figure size 432x288 with 1 Axes>"
            ]
          },
          "metadata": {
            "tags": [],
            "needs_background": "light"
          }
        }
      ]
    },
    {
      "cell_type": "markdown",
      "metadata": {
        "id": "CifsD5Cl0bi8"
      },
      "source": [
        "### Loss\n",
        "We need a loss function that will evaluate the quality of model predictions against ground truth labels y. \n",
        "\n",
        "Let's use $L(\\hat{y}, y) = (\\hat{y}-y)^2$. "
      ],
      "id": "CifsD5Cl0bi8"
    },
    {
      "cell_type": "code",
      "metadata": {
        "colab": {
          "base_uri": "https://localhost:8080/"
        },
        "id": "bzFNY0Ad0bi8",
        "outputId": "586dcf03-b68e-46c4-eddf-285a78e5c045"
      },
      "source": [
        "L = tf.reduce_mean(((y_hat-y)**2))\n",
        "print(\"The loss or error in the model's predictions compared to the ground truth is %.4f\" % (L))"
      ],
      "id": "bzFNY0Ad0bi8",
      "execution_count": 6,
      "outputs": [
        {
          "output_type": "stream",
          "text": [
            "The loss or error in the model's predictions compared to the ground truth is 2.1247\n"
          ],
          "name": "stdout"
        }
      ]
    },
    {
      "cell_type": "markdown",
      "metadata": {
        "id": "DgyoV1ZX0bi8"
      },
      "source": [
        "### Optimization (training the model) \n",
        "Now we will optimize our model f until the loss is below a threshold. We have already discussed the general recipe at the very beginning of this tutorial."
      ],
      "id": "DgyoV1ZX0bi8"
    },
    {
      "cell_type": "code",
      "metadata": {
        "id": "iZQ9sBDv0bi8"
      },
      "source": [
        "alpha = 0.001\n",
        "error_tolerance = 0.01"
      ],
      "id": "iZQ9sBDv0bi8",
      "execution_count": 7,
      "outputs": []
    },
    {
      "cell_type": "code",
      "metadata": {
        "colab": {
          "base_uri": "https://localhost:8080/"
        },
        "id": "4Du76EQE0bi8",
        "outputId": "40d61e4d-6c4b-43ca-a85e-659ba2e40587"
      },
      "source": [
        "while L > error_tolerance:\n",
        "    with tf.GradientTape() as tape:\n",
        "        # forward pass\n",
        "        y_hat = tf.cast(model(x), tf.double)\n",
        "        L = tf.reduce_mean((y_hat-y)**2)\n",
        "\n",
        "    print(L.numpy())\n",
        "\n",
        "    # backward pass\n",
        "    gradients = tape.gradient(L, model.trainable_variables)\n",
        "        \n",
        "    # update parameters\n",
        "    optimizer.apply_gradients(zip(gradients, model.trainable_variables))\n",
        "        "
      ],
      "id": "4Du76EQE0bi8",
      "execution_count": 8,
      "outputs": [
        {
          "output_type": "stream",
          "text": [
            "2.1247328519944007\n",
            "2.1027283336147184\n",
            "2.080858895848945\n",
            "2.0590999435436896\n",
            "2.0374558155900813\n",
            "2.0159349645468216\n",
            "1.9945401910254767\n",
            "1.9732659806900468\n",
            "1.9520974717672195\n",
            "1.9310109457837528\n",
            "1.909975428753178\n",
            "1.8889650866533714\n",
            "1.8679617931537504\n",
            "1.846947377135297\n",
            "1.8259044728360698\n",
            "1.8048181386494144\n",
            "1.7836787014890856\n",
            "1.762486935760449\n",
            "1.7412554111918115\n",
            "1.7199837164975678\n",
            "1.6986677992809647\n",
            "1.6773098183132584\n",
            "1.655925733492388\n",
            "1.6345246338991253\n",
            "1.6130985669221858\n",
            "1.5916444898212179\n",
            "1.5701681369805098\n",
            "1.548679204891824\n",
            "1.5271911223587644\n",
            "1.505711566242875\n",
            "1.4842385037515904\n",
            "1.4627737195025965\n",
            "1.4413284450571642\n",
            "1.4199221571080225\n",
            "1.3985624043184095\n",
            "1.3772544840730654\n",
            "1.3560192361864958\n",
            "1.3348814924280177\n",
            "1.313845823905982\n",
            "1.2929200856813008\n",
            "1.2721213768367232\n",
            "1.2514752447415134\n",
            "1.2310008580958594\n",
            "1.2106894123466478\n",
            "1.1905540337444582\n",
            "1.1706122283037546\n",
            "1.1508850570323612\n",
            "1.1313890590054942\n",
            "1.1121339937536925\n",
            "1.0931409716659863\n",
            "1.074406042758927\n",
            "1.0559284831332956\n",
            "1.0377176629534086\n",
            "1.0197835630786654\n",
            "1.0021368947863025\n",
            "0.9847890442176733\n",
            "0.9677421461963654\n",
            "0.9509876518656707\n",
            "0.934528381798695\n",
            "0.9183669228650615\n",
            "0.9025056314014862\n",
            "0.8869465338557234\n",
            "0.8716915765786267\n",
            "0.8567424687352737\n",
            "0.8421010779163378\n",
            "0.8277690736709261\n",
            "0.8137484952923264\n",
            "0.800041424855059\n",
            "0.7866503565005898\n",
            "0.7735782657188576\n",
            "0.7608284553622803\n",
            "0.748404948412434\n",
            "0.7363113437939337\n",
            "0.7245520392655155\n",
            "0.7131322180226256\n",
            "0.7020565117930356\n",
            "0.6913224166526799\n",
            "0.6809069436377199\n",
            "0.6708007639305417\n",
            "0.6609823712421238\n",
            "0.6514431024684225\n",
            "0.6421775430317421\n",
            "0.6331805576139942\n",
            "0.6244470912823518\n",
            "0.615970206192383\n",
            "0.6077391783707338\n",
            "0.5997458781634485\n",
            "0.5919758276427362\n",
            "0.5844199709820806\n",
            "0.5770677775067167\n",
            "0.5699078815639607\n",
            "0.5629322336298459\n",
            "0.5561331926274704\n",
            "0.5495020640959708\n",
            "0.5430287170617976\n",
            "0.5367004361127987\n",
            "0.5304961281838738\n",
            "0.5243982560376331\n",
            "0.5183839365260172\n",
            "0.5124454702240699\n",
            "0.5065762360046349\n",
            "0.5007671399050728\n",
            "0.4950105547313355\n",
            "0.4892994110243224\n",
            "0.48363188692166953\n",
            "0.4780070027504361\n",
            "0.4724243274583005\n",
            "0.46688396771870766\n",
            "0.4613863973667705\n",
            "0.45593237183596264\n",
            "0.4505228318509753\n",
            "0.44515808484336394\n",
            "0.43983618122392143\n",
            "0.43455811026032026\n",
            "0.4293250837430298\n",
            "0.4241382538727756\n",
            "0.4189978069057777\n",
            "0.41390039449387134\n",
            "0.4088457522998484\n",
            "0.4038349886393904\n",
            "0.39886910617156957\n",
            "0.39394900038585035\n",
            "0.38907550113872397\n",
            "0.3842492498755598\n",
            "0.379470734900201\n",
            "0.3747403346083171\n",
            "0.37005822370248737\n",
            "0.3654244586280778\n",
            "0.36083887208628757\n",
            "0.35629991930066374\n",
            "0.35180641094852483\n",
            "0.34735805589910085\n",
            "0.342953879836658\n",
            "0.33859190460241356\n",
            "0.3342716353731063\n",
            "0.3299922315592286\n",
            "0.3257514460456692\n",
            "0.3215490145698672\n",
            "0.3173848203993271\n",
            "0.3132588042111076\n",
            "0.3091709231118917\n",
            "0.3051211461516351\n",
            "0.3011094952700304\n",
            "0.297135991365678\n",
            "0.29320064662501966\n",
            "0.2893035258093524\n",
            "0.2854446517107978\n",
            "0.2816240963735822\n",
            "0.2778420938394825\n",
            "0.27409882768894783\n",
            "0.2703935860723873\n",
            "0.26672630359020866\n",
            "0.2630970297661873\n",
            "0.25950589559956005\n",
            "0.2559530219950583\n",
            "0.2524384026553184\n",
            "0.24896211015589093\n",
            "0.2455241542598072\n",
            "0.24212454055163463\n",
            "0.23876331258938194\n",
            "0.23544045776396205\n",
            "0.23215597326038345\n",
            "0.2289098754118593\n",
            "0.22570211670476145\n",
            "0.22253263826577313\n",
            "0.21940139925993946\n",
            "0.21630827755148802\n",
            "0.21325319821851493\n",
            "0.21023599228363601\n",
            "0.2072565032009264\n",
            "0.2043139987634184\n",
            "0.2014079779088884\n",
            "0.19853831932394192\n",
            "0.19570489064547447\n",
            "0.19290754629036908\n",
            "0.19014574224900738\n",
            "0.18741886800218951\n",
            "0.1847268456689088\n",
            "0.1820696029297817\n",
            "0.17944706094558782\n",
            "0.17685913181061466\n",
            "0.17430575770914558\n",
            "0.17178695489474025\n",
            "0.16930260822858564\n",
            "0.16685261184610686\n",
            "0.1644368579836091\n",
            "0.16205518590763365\n",
            "0.15970746581328177\n",
            "0.15739354178127066\n",
            "0.1551132357949878\n",
            "0.15286637102528183\n",
            "0.15065278917907537\n",
            "0.1484722804665416\n",
            "0.14632464949976487\n",
            "0.14420972392542541\n",
            "0.14212731239406015\n",
            "0.1400771699686058\n",
            "0.13805908749839077\n",
            "0.13607283178893959\n",
            "0.13411829606339998\n",
            "0.13219524359115345\n",
            "0.13030349164292457\n",
            "0.12844249971717947\n",
            "0.12661189250170352\n",
            "0.12481139263676463\n",
            "0.12304069053270086\n",
            "0.12129948922066323\n",
            "0.11958749897690608\n",
            "0.11790441310948499\n",
            "0.11624995418794226\n",
            "0.11462383954275622\n",
            "0.11302578302216998\n",
            "0.11145550536709398\n",
            "0.1099127374472172\n",
            "0.10839721179102307\n",
            "0.1069086576373061\n",
            "0.10544678874939573\n",
            "0.10401133960194629\n",
            "0.10260198594077205\n",
            "0.10121824671749836\n",
            "0.09985987412067704\n",
            "0.09852659774123292\n",
            "0.0972181354455845\n",
            "0.09593422468827421\n",
            "0.09467459126234068\n",
            "0.09343894999164942\n",
            "0.09222702169439087\n",
            "0.09103852430946036\n",
            "0.08987318452368159\n",
            "0.08873067783392598\n",
            "0.0876107469649801\n",
            "0.08651308355256226\n",
            "0.08543737979380789\n",
            "0.08438326194877498\n",
            "0.0833504432983686\n",
            "0.08233861304390555\n",
            "0.08134750650677158\n",
            "0.08037682824983204\n",
            "0.07942629031765577\n",
            "0.07849561041846709\n",
            "0.07758450213888059\n",
            "0.07669266050383994\n",
            "0.07581982314951732\n",
            "0.0749656824376403\n",
            "0.07412995551231913\n",
            "0.07331234540230962\n",
            "0.07251257466225101\n",
            "0.07173033108632014\n",
            "0.07096534435597156\n",
            "0.07021731398328634\n",
            "0.06948595478983746\n",
            "0.06877097812138433\n",
            "0.06807208892887774\n",
            "0.06738899078102448\n",
            "0.06672140815326039\n",
            "0.06606905571502578\n",
            "0.06543162941317539\n",
            "0.06480885506452844\n",
            "0.06420044096673594\n",
            "0.06360609923272487\n",
            "0.06302555918912427\n",
            "0.06245852963732991\n",
            "0.061904731389765995\n",
            "0.06136389463567475\n",
            "0.06083572014240174\n",
            "0.06031995327880017\n",
            "0.05981631411507991\n",
            "0.05932451984314364\n",
            "0.0588443094031701\n",
            "0.05837541564319962\n",
            "0.057917565924211975\n",
            "0.05747049217582627\n",
            "0.05703393769366876\n",
            "0.05660764739345533\n",
            "0.05619134686299461\n",
            "0.055784796653470005\n",
            "0.05538771929152573\n",
            "0.05499987737878049\n",
            "0.05462102410194943\n",
            "0.054250905461366974\n",
            "0.05388926577294568\n",
            "0.05353587346355648\n",
            "0.053190468748498566\n",
            "0.05285283265860447\n",
            "0.05252270262087654\n",
            "0.052199862448729366\n",
            "0.05188406550761148\n",
            "0.0515750880677944\n",
            "0.05127267187519058\n",
            "0.05097662416403031\n",
            "0.05068669116875563\n",
            "0.050402655271847945\n",
            "0.05012429327755665\n",
            "0.049851376995720564\n",
            "0.04958369420028468\n",
            "0.049321012250381886\n",
            "0.04906312628777739\n",
            "0.048809814436386864\n",
            "0.04856087555497942\n",
            "0.048316094368895106\n",
            "0.04807526748828985\n",
            "0.04783817120612416\n",
            "0.04760461968878362\n",
            "0.047374416436202514\n",
            "0.04714738340229667\n",
            "0.04692330915597844\n",
            "0.04670205638289395\n",
            "0.04648340554385562\n",
            "0.04626721442395991\n",
            "0.04605331824553081\n",
            "0.04584155040581214\n",
            "0.045631763749277084\n",
            "0.04542380335111724\n",
            "0.04521754678320822\n",
            "0.045012873617827916\n",
            "0.0448096365463457\n",
            "0.04460775942893489\n",
            "0.044407128906545974\n",
            "0.044207634890956\n",
            "0.0440092036879989\n",
            "0.04381175636868878\n",
            "0.04361521407992627\n",
            "0.04341950964202688\n",
            "0.04322456256321926\n",
            "0.04303035052563792\n",
            "0.042836794752533276\n",
            "0.042643854235843735\n",
            "0.04245148552421401\n",
            "0.04225964604173416\n",
            "0.04206830941136553\n",
            "0.04187741316732066\n",
            "0.041686943452686205\n",
            "0.04149687356586722\n",
            "0.04130715418947034\n",
            "0.041117744450630975\n",
            "0.040928646038537055\n",
            "0.040739786097301875\n",
            "0.04055118931771554\n",
            "0.04036280229589613\n",
            "0.04017462375334542\n",
            "0.03998665216276845\n",
            "0.03979886770933529\n",
            "0.039611262768014216\n",
            "0.03942384725670504\n",
            "0.03923658764711826\n",
            "0.0390494711777459\n",
            "0.03886250774511694\n",
            "0.038675663428578956\n",
            "0.03848891545661343\n",
            "0.038302256485436656\n",
            "0.038115654324338326\n",
            "0.03792909070086963\n",
            "0.03774253199657821\n",
            "0.03755595154783642\n",
            "0.03736933676474537\n",
            "0.03718263821478188\n",
            "0.03699584811032188\n",
            "0.03680892561236054\n",
            "0.03662184915269205\n",
            "0.036434578828849026\n",
            "0.03624710961335721\n",
            "0.03605940409751625\n",
            "0.035871455108225245\n",
            "0.03568322373408691\n",
            "0.03549471404827263\n",
            "0.035305903866574596\n",
            "0.03511679593279336\n",
            "0.03492738292151327\n",
            "0.03473764976335492\n",
            "0.03454762052019727\n",
            "0.03435729462419643\n",
            "0.0341667031738282\n",
            "0.03397583684852906\n",
            "0.033784739761883543\n",
            "0.03359342471482271\n",
            "0.03340193423741081\n",
            "0.03321028653112976\n",
            "0.033018519887173775\n",
            "0.03282668351533716\n",
            "0.032634809983944094\n",
            "0.03244295534171043\n",
            "0.03225115204212925\n",
            "0.03205944891302263\n",
            "0.031867906363860936\n",
            "0.03167656417879353\n",
            "0.031485474547872185\n",
            "0.03129469225174605\n",
            "0.03110426495826835\n",
            "0.030914239523582507\n",
            "0.03072467350189457\n",
            "0.03053561055441655\n",
            "0.030347107345109897\n",
            "0.03015919917638556\n",
            "0.02997193721762303\n",
            "0.029785367977242173\n",
            "0.02959953294414052\n",
            "0.02941447262500974\n",
            "0.029230224872502104\n",
            "0.029046830687070115\n",
            "0.028864322536919694\n",
            "0.028682730344037528\n",
            "0.028502089878117278\n",
            "0.02832243057909999\n",
            "0.028143768884030414\n",
            "0.027966135307814187\n",
            "0.027789545881254242\n",
            "0.027614025171756713\n",
            "0.027439583486295906\n",
            "0.027266237436872807\n",
            "0.02709399302708979\n",
            "0.026922877517273604\n",
            "0.02675288203736979\n",
            "0.02658402133402374\n",
            "0.02641630232704874\n",
            "0.02624972295819536\n",
            "0.02608429335407998\n",
            "0.025920013959363872\n",
            "0.025756881950957815\n",
            "0.025594900492875834\n",
            "0.02543405735501185\n",
            "0.02527435477612876\n",
            "0.025115783129050936\n",
            "0.0249583372444839\n",
            "0.024802015546941447\n",
            "0.024646802392786372\n",
            "0.024492697127065234\n",
            "0.024339686003757167\n",
            "0.024187762342756294\n",
            "0.024036916937470763\n",
            "0.023887139763225044\n",
            "0.023738425156543286\n",
            "0.023590760208193888\n",
            "0.023444135438255357\n",
            "0.02329853824315976\n",
            "0.023153963202468854\n",
            "0.0230103980778731\n",
            "0.02286783097828215\n",
            "0.022726259211804312\n",
            "0.022585667580688452\n",
            "0.02244604779883182\n",
            "0.022307387038639787\n",
            "0.02216968016165299\n",
            "0.022032913141654772\n",
            "0.02189708163388522\n",
            "0.021762174383061085\n",
            "0.021628183737990244\n",
            "0.021495096774210836\n",
            "0.021362905816210035\n",
            "0.02123160448388835\n",
            "0.02110118527034756\n",
            "0.02097163482059244\n",
            "0.02084294952652581\n",
            "0.020715120104472348\n",
            "0.020588137237951346\n",
            "0.02046199354128151\n",
            "0.02033668082492275\n",
            "0.020212192822367293\n",
            "0.02008852197447199\n",
            "0.019965661483989833\n",
            "0.019843602509454075\n",
            "0.019722340330631978\n",
            "0.0196018677993388\n",
            "0.019482175589931598\n",
            "0.019363262225118968\n",
            "0.019245120551846996\n",
            "0.019127738803091675\n",
            "0.019011115591551792\n",
            "0.018895243791016408\n",
            "0.01878011633297307\n",
            "0.018665731015535227\n",
            "0.018552077776151157\n",
            "0.018439154294002193\n",
            "0.01832695317916853\n",
            "0.01821547167262583\n",
            "0.018104702176372223\n",
            "0.017994640589488044\n",
            "0.017885282777906904\n",
            "0.01777662037651522\n",
            "0.017668653329212896\n",
            "0.017561375361173158\n",
            "0.017454779096412604\n",
            "0.017348862265877098\n",
            "0.017243620088847656\n",
            "0.017139047278499887\n",
            "0.017035141704865406\n",
            "0.016931896322499362\n",
            "0.01682930842855221\n",
            "0.01672737385859837\n",
            "0.016626087594251118\n",
            "0.016525447068237685\n",
            "0.016425447253678466\n",
            "0.016326084241845406\n",
            "0.016227353554360342\n",
            "0.016129252069411872\n",
            "0.016031775778619924\n",
            "0.015934920449046264\n",
            "0.015838683982713313\n",
            "0.015743061253738727\n",
            "0.015648049025951544\n",
            "0.015553644995935183\n",
            "0.01545984441075635\n",
            "0.01536664448921375\n",
            "0.015274043085759007\n",
            "0.015182034998818721\n",
            "0.015090617981648029\n",
            "0.014999786892113105\n",
            "0.014909541926649299\n",
            "0.014819876365839839\n",
            "0.014730788702672845\n",
            "0.01464227296883334\n",
            "0.01455433251325741\n",
            "0.014466960066986627\n",
            "0.014380150822821196\n",
            "0.014293906976255823\n",
            "0.014208221291168667\n",
            "0.014123092451762232\n",
            "0.014038519122538779\n",
            "0.013954496563326995\n",
            "0.013871022555131436\n",
            "0.01378809381272672\n",
            "0.013705707224749312\n",
            "0.013623861829142487\n",
            "0.01354255480564534\n",
            "0.013461779580812586\n",
            "0.013381536551725071\n",
            "0.013301823059933071\n",
            "0.013222634917007536\n",
            "0.013143971283597327\n",
            "0.013065828175916963\n",
            "0.012988205432380204\n",
            "0.012911097527985067\n",
            "0.012834503851760616\n",
            "0.01275842050880027\n",
            "0.012682843392631184\n",
            "0.01260777435835901\n",
            "0.012533208370008363\n",
            "0.012459142854466684\n",
            "0.012385576014602008\n",
            "0.012312505739800715\n",
            "0.012239927011275324\n",
            "0.012167839369776145\n",
            "0.012096241558934255\n",
            "0.012025128839757947\n",
            "0.011954501850829682\n",
            "0.011884351832705968\n",
            "0.011814683563159479\n",
            "0.011745489833851907\n",
            "0.011676769001212764\n",
            "0.011608522112188366\n",
            "0.011540742834022797\n",
            "0.011473429328275275\n",
            "0.01140658171290482\n",
            "0.01134019403533593\n",
            "0.011274265245585923\n",
            "0.011208794614304853\n",
            "0.011143776355720078\n",
            "0.01107921114584242\n",
            "0.01101509611130455\n",
            "0.010951427482218983\n",
            "0.010888202958601663\n",
            "0.010825420344875564\n",
            "0.010763077454512524\n",
            "0.01070116952526231\n",
            "0.010639698404984771\n",
            "0.010578658317961431\n",
            "0.010518047753715992\n",
            "0.010457864219870364\n",
            "0.01039810416100351\n",
            "0.010338767687786821\n",
            "0.010279849129497374\n",
            "0.010221349373253395\n",
            "0.01016326200436847\n",
            "0.010105589433509761\n",
            "0.01004832368482649\n",
            "0.009991467044542292\n"
          ],
          "name": "stdout"
        }
      ]
    },
    {
      "cell_type": "code",
      "metadata": {
        "colab": {
          "base_uri": "https://localhost:8080/",
          "height": 265
        },
        "id": "sY8-AI9o0bi9",
        "outputId": "db40e962-fdf3-45f4-c640-fe0031b6743a"
      },
      "source": [
        "# visualize model predictions\n",
        "plt.scatter(x, y, label=\"ground-truth\")\n",
        "plt.scatter(x, y_hat, label=\"prediction\")\n",
        "plt.legend(loc=\"upper right\")\n",
        "plt.show()"
      ],
      "id": "sY8-AI9o0bi9",
      "execution_count": 9,
      "outputs": [
        {
          "output_type": "display_data",
          "data": {
            "image/png": "[encoded data removed]",
            "text/plain": [
              "<Figure size 432x288 with 1 Axes>"
            ]
          },
          "metadata": {
            "tags": [],
            "needs_background": "light"
          }
        }
      ]
    },
    {
      "cell_type": "markdown",
      "metadata": {
        "id": "zxpEHkik0bi9"
      },
      "source": [
        "## Harder Example\n",
        "\n",
        "### Dataset\n",
        "Let's collect a dataset of x,y samples where: $$y = sin(x) + \\epsilon$$ \n",
        "\n",
        "$$X = [x_1, x_2, x_3, ..., x_N]^T$$\n",
        "$$Y = [y_1, y_2, y_3, ..., y_N]^T$$ \n",
        "\n",
        "1. xi is a real value, so X has dimensions Nx1\n",
        "2. yi is a real value, so Y has dimensions Nx1\n",
        "3. $\\epsilon \\sim \\mathcal{N}(0,1)$"
      ],
      "id": "zxpEHkik0bi9"
    },
    {
      "cell_type": "code",
      "metadata": {
        "colab": {
          "base_uri": "https://localhost:8080/"
        },
        "id": "rVGBj1HI0bi9",
        "outputId": "e5a39957-7b63-4cf6-89ac-de316d5e67e5"
      },
      "source": [
        "x = tf.expand_dims(tf.linspace(start=-10, stop=10, num=10000), 1)  # 10000 equally spaced values between [-10, 10]\n",
        "y = tf.sin(x) + 0.2*tf.random.normal(shape=x.shape, dtype=tf.double)\n",
        "\n",
        "print(x.shape, y.shape)"
      ],
      "id": "rVGBj1HI0bi9",
      "execution_count": 10,
      "outputs": [
        {
          "output_type": "stream",
          "text": [
            "(10000, 1) (10000, 1)\n"
          ],
          "name": "stdout"
        }
      ]
    },
    {
      "cell_type": "code",
      "metadata": {
        "colab": {
          "base_uri": "https://localhost:8080/",
          "height": 265
        },
        "id": "0JEBkDnl0bi9",
        "outputId": "604eac5e-3e46-4906-b8f4-9e81bc0551ef"
      },
      "source": [
        "plt.scatter(x, y)\n",
        "plt.show()"
      ],
      "id": "0JEBkDnl0bi9",
      "execution_count": 11,
      "outputs": [
        {
          "output_type": "display_data",
          "data": {
            "image/png": "[encoded data removed]",
            "text/plain": [
              "<Figure size 432x288 with 1 Axes>"
            ]
          },
          "metadata": {
            "tags": [],
            "needs_background": "light"
          }
        }
      ]
    },
    {
      "cell_type": "markdown",
      "metadata": {
        "id": "GFIKkX5Z0bi9"
      },
      "source": [
        "Let's also collect a test dataset that we will use to evaluate the model."
      ],
      "id": "GFIKkX5Z0bi9"
    },
    {
      "cell_type": "code",
      "metadata": {
        "id": "_1BZkg8B0bi-"
      },
      "source": [
        "x_test = tf.expand_dims(tf.linspace(start=-10, stop=10, num=5000), 1)  \n",
        "y_test = tf.sin(x_test) "
      ],
      "id": "_1BZkg8B0bi-",
      "execution_count": 12,
      "outputs": []
    },
    {
      "cell_type": "markdown",
      "metadata": {
        "id": "JRxLDAuX0bi-"
      },
      "source": [
        "Now it's your turn to define and train the model for this new dataset. You can copy code from the previous example.\n",
        "### Model"
      ],
      "id": "JRxLDAuX0bi-"
    },
    {
      "cell_type": "code",
      "metadata": {
        "id": "Pv5kSh3n0bi-"
      },
      "source": [
        "# TODO: Define the model, the optimizer, and predictor y_hat\r\n",
        "\r\n",
        "import keras\r\n",
        "from keras.models import Sequential\r\n",
        "from keras import models, layers\r\n",
        "from keras.datasets import mnist\r\n",
        "from keras.utils import np_utils\r\n",
        "from tensorflow.keras.layers import BatchNormalization\r\n",
        "\r\n",
        "model = Sequential()\r\n",
        "model.add(BatchNormalization(trainable=True))\r\n",
        "model.add(layers.Dropout(0.2))\r\n",
        "\r\n",
        "model.add(layers.Dense(128, activation='relu',kernel_initializer='normal'))\r\n",
        "model.add(BatchNormalization(trainable=True))\r\n",
        "model.add(layers.Dropout(0.3))\r\n",
        "\r\n",
        "model.add(layers.Dense(256, activation='relu',kernel_initializer='normal'))\r\n",
        "model.add(BatchNormalization(trainable=True))\r\n",
        "model.add(layers.Dropout(0.3))\r\n",
        "\r\n",
        "model.add(layers.Dense(256, activation='relu',kernel_initializer='normal'))\r\n",
        "model.add(BatchNormalization(trainable=True))\r\n",
        "model.add(layers.Dropout(0.3))\r\n",
        "\r\n",
        "model.add(layers.Dense(1))\r\n",
        "\r\n",
        "y_hat = tf.cast(model(x_test), tf.double)\r\n",
        "optimizer = tf.keras.optimizers.Adam(learning_rate=0.001)"
      ],
      "id": "Pv5kSh3n0bi-",
      "execution_count": 13,
      "outputs": []
    },
    {
      "cell_type": "code",
      "metadata": {
        "colab": {
          "base_uri": "https://localhost:8080/",
          "height": 265
        },
        "id": "ruh-qCE30bi-",
        "outputId": "327edc93-45b8-481c-b98e-f7555c490776"
      },
      "source": [
        "# TODO: plot initial predictions\r\n",
        "\r\n",
        "plt.scatter(x, y, label=\"ground-truth\")\r\n",
        "plt.scatter(x_test, y_hat, label=\"prediction\")\r\n",
        "plt.legend(loc=\"upper right\")\r\n",
        "plt.show()"
      ],
      "id": "ruh-qCE30bi-",
      "execution_count": 14,
      "outputs": [
        {
          "output_type": "display_data",
          "data": {
            "image/png": "[encoded data removed]",
            "text/plain": [
              "<Figure size 432x288 with 1 Axes>"
            ]
          },
          "metadata": {
            "tags": [],
            "needs_background": "light"
          }
        }
      ]
    },
    {
      "cell_type": "markdown",
      "metadata": {
        "id": "DOGqLDTl0bi-"
      },
      "source": [
        "### Loss"
      ],
      "id": "DOGqLDTl0bi-"
    },
    {
      "cell_type": "code",
      "metadata": {
        "colab": {
          "base_uri": "https://localhost:8080/"
        },
        "id": "PS47a5460bi_",
        "outputId": "02a5146b-573e-4cef-e3f4-8616e384f8a7"
      },
      "source": [
        "# TODO: Define loss function and print initial loss\r\n",
        "\r\n",
        "L = tf.reduce_mean(((y_hat-y_test)**2))\r\n",
        "print(\"The loss or error in the model's predictions compared to the ground truth is %.4f\" % (L))"
      ],
      "id": "PS47a5460bi_",
      "execution_count": 15,
      "outputs": [
        {
          "output_type": "stream",
          "text": [
            "The loss or error in the model's predictions compared to the ground truth is 0.4986\n"
          ],
          "name": "stdout"
        }
      ]
    },
    {
      "cell_type": "markdown",
      "metadata": {
        "id": "ydmgBIZr0bi_"
      },
      "source": [
        "### Optimization \n",
        "Finally, train the model!"
      ],
      "id": "ydmgBIZr0bi_"
    },
    {
      "cell_type": "code",
      "metadata": {
        "colab": {
          "base_uri": "https://localhost:8080/"
        },
        "id": "b2iC6jx00bi_",
        "outputId": "257d3542-5281-4e74-b539-adb9573d3809"
      },
      "source": [
        "# TODO: Train the model\r\n",
        "\r\n",
        "alpha = 0.001\r\n",
        "error_tolerance = 0.005\r\n",
        "\r\n",
        "while L > error_tolerance:\r\n",
        "    with tf.GradientTape() as tape:\r\n",
        "        # forward pass\r\n",
        "        y_hat = tf.cast(model(x_test), tf.double)\r\n",
        "        L = tf.reduce_mean((y_hat-y_test)**2)\r\n",
        "\r\n",
        "    print(L.numpy())\r\n",
        "\r\n",
        "    # backward pass\r\n",
        "    gradients = tape.gradient(L, model.trainable_variables)\r\n",
        "        \r\n",
        "    # update parameters\r\n",
        "    optimizer.apply_gradients(zip(gradients, model.trainable_variables))"
      ],
      "id": "b2iC6jx00bi_",
      "execution_count": 16,
      "outputs": [
        {
          "output_type": "stream",
          "text": [
            "0.49862511262280057\n",
            "0.4591456618873639\n",
            "0.46969328782348546\n",
            "0.4698047459576404\n",
            "0.4610619315361926\n",
            "0.45645906892645544\n",
            "0.4572351119365925\n",
            "0.4587649925982885\n",
            "0.45799546927436696\n",
            "0.45528872761037237\n",
            "0.45242153088666803\n",
            "0.4510450755160603\n",
            "0.45103549593751785\n",
            "0.4505909474237041\n",
            "0.4488371872937079\n",
            "0.4466845689805371\n",
            "0.44429250932272496\n",
            "0.442345956840331\n",
            "0.4410730397129335\n",
            "0.4397422512325476\n",
            "0.4374736579388667\n",
            "0.4346956751236163\n",
            "0.43207438982568236\n",
            "0.42978013980570956\n",
            "0.42759077703505266\n",
            "0.4249196176760824\n",
            "0.4217634251515134\n",
            "0.4185164557501771\n",
            "0.4152597472439448\n",
            "0.41177458429322766\n",
            "0.4081482762013581\n",
            "0.40462158316380015\n",
            "0.400977609390747\n",
            "0.39705197616754984\n",
            "0.3927728226131673\n",
            "0.3882923413666414\n",
            "0.3836837570882836\n",
            "0.37904753151592063\n",
            "0.3741414895160512\n",
            "0.3686624436627546\n",
            "0.3626403276515116\n",
            "0.35607677402579485\n",
            "0.3489661406752086\n",
            "0.34120342771787426\n",
            "0.3327542748184529\n",
            "0.323632001079316\n",
            "0.3135418138650711\n",
            "0.30273845843794733\n",
            "0.29112558109011527\n",
            "0.27850177063819026\n",
            "0.26514445924739316\n",
            "0.25134943558362954\n",
            "0.23718031412906784\n",
            "0.22275643003572246\n",
            "0.20880706839686128\n",
            "0.19470221828034132\n",
            "0.18157713875877277\n",
            "0.1695208517550158\n",
            "0.16005903153123044\n",
            "0.15358241935840602\n",
            "0.15240440818760712\n",
            "0.15409866557615795\n",
            "0.14465753069765616\n",
            "0.14311920039247\n",
            "0.145109495453337\n",
            "0.13685957561475712\n",
            "0.1390369300603054\n",
            "0.13446325625051414\n",
            "0.13313898913381403\n",
            "0.13296256809157767\n",
            "0.129320290257019\n",
            "0.13001419521388258\n",
            "0.1254315475363879\n",
            "0.12520591092983624\n",
            "0.12105095719290217\n",
            "0.11988281480104801\n",
            "0.11663112084348881\n",
            "0.11460881584258689\n",
            "0.11198113520446724\n",
            "0.10952156449116264\n",
            "0.10737549902050016\n",
            "0.10468267583761133\n",
            "0.10298570017281568\n",
            "0.10017579145180765\n",
            "0.09814504418572298\n",
            "0.09539538830844699\n",
            "0.09308073140875453\n",
            "0.0909172758975294\n",
            "0.08851074697968521\n",
            "0.08666886095206225\n",
            "0.08422801550815884\n",
            "0.08213568179387425\n",
            "0.07981509682078537\n",
            "0.0772833851865461\n",
            "0.07523960452571248\n",
            "0.07269148931414915\n",
            "0.07045954078155336\n",
            "0.0683267080149298\n",
            "0.06595555476885001\n",
            "0.06364548692217392\n",
            "0.06148147041870835\n",
            "0.05912157814707261\n",
            "0.05665865493135409\n",
            "0.05431174946089574\n",
            "0.05206674811037512\n",
            "0.0497973389648303\n",
            "0.04756345238658762\n",
            "0.04534963238208745\n",
            "0.04324952602302371\n",
            "0.04137616435607885\n",
            "0.039985778067425135\n",
            "0.03947478123960217\n",
            "0.03958913212983556\n",
            "0.038084605034510034\n",
            "0.03321432488867907\n",
            "0.02866888677034172\n",
            "0.028211555743987475\n",
            "0.029305840961838567\n",
            "0.027996897612152714\n",
            "0.023732415605544146\n",
            "0.020752603111991594\n",
            "0.020885562154281858\n",
            "0.021691389795052366\n",
            "0.020446425502157337\n",
            "0.01726272208009023\n",
            "0.014632756384683858\n",
            "0.014036344507253194\n",
            "0.014695610040619823\n",
            "0.015224706146981282\n",
            "0.014354095232422566\n",
            "0.012103197372456354\n",
            "0.009789478034285534\n",
            "0.008472128425130489\n",
            "0.008419152987579212\n",
            "0.009218280886093094\n",
            "0.010214650618537382\n",
            "0.010985519898643359\n",
            "0.010769673966599594\n",
            "0.008737839544175827\n",
            "0.006007731720548456\n",
            "0.004475195598038679\n"
          ],
          "name": "stdout"
        }
      ]
    },
    {
      "cell_type": "code",
      "metadata": {
        "colab": {
          "base_uri": "https://localhost:8080/",
          "height": 265
        },
        "id": "hyoWuXz70bi_",
        "outputId": "a41d40e2-2eec-4f46-d7e9-a3b6c3c4c9bb"
      },
      "source": [
        "# TODO: Visualize model predictions\r\n",
        "plt.scatter(x, y, label=\"ground-truth\")\r\n",
        "plt.scatter(x_test, y_hat, label=\"prediction\")\r\n",
        "plt.legend(loc=\"upper right\")\r\n",
        "plt.show()"
      ],
      "id": "hyoWuXz70bi_",
      "execution_count": 17,
      "outputs": [
        {
          "output_type": "display_data",
          "data": {
            "image/png": "[encoded data removed]",
            "text/plain": [
              "<Figure size 432x288 with 1 Axes>"
            ]
          },
          "metadata": {
            "tags": [],
            "needs_background": "light"
          }
        }
      ]
    },
    {
      "cell_type": "code",
      "metadata": {
        "colab": {
          "base_uri": "https://localhost:8080/"
        },
        "id": "x4HkI7dm0bi_",
        "outputId": "449083b7-44f4-45d1-ff49-2d414713b870"
      },
      "source": [
        "# DO NOT CHANGE\n",
        "\n",
        "# given predictions y_hat from the test input x_test\n",
        "print(\"test loss\", (tf.reduce_mean((y_test-y_hat)**2).numpy()))"
      ],
      "id": "x4HkI7dm0bi_",
      "execution_count": 18,
      "outputs": [
        {
          "output_type": "stream",
          "text": [
            "test loss 0.004475195598038679\n"
          ],
          "name": "stdout"
        }
      ]
    },
    {
      "cell_type": "markdown",
      "metadata": {
        "id": "mthDKATX0bi_"
      },
      "source": [
        "## Conclusion\n",
        "We have only scratched the surface of deep learning. Try changing the model architecture for better performance!\n",
        "\n",
        "Both PyTorch and Tensorflow help us compute derivatives, which is what we ultimately need to incrementally improve the model through several forward and backward passes. \n",
        "\n",
        "Please check out more information about the different APIs here:\n",
        "\n",
        "PyTorch: https://pytorch.org/tutorials/beginner/blitz/neural_networks_tutorial.html\n",
        "\n",
        "Tensorflow 2: https://www.tensorflow.org/tutorials/quickstart/advanced"
      ],
      "id": "mthDKATX0bi_"
    }
  ]
}