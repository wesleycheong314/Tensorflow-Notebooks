{
  "nbformat": 4,
  "nbformat_minor": 0,
  "metadata": {
    "kernelspec": {
      "display_name": "Python 3",
      "language": "python",
      "name": "python3"
    },
    "language_info": {
      "codemirror_mode": {
        "name": "ipython",
        "version": 3
      },
      "file_extension": ".py",
      "mimetype": "text/x-python",
      "name": "python",
      "nbconvert_exporter": "python",
      "pygments_lexer": "ipython3",
      "version": "3.6.12"
    },
    "colab": {
      "name": "lab2_classification_tf.ipynb",
      "provenance": [],
      "collapsed_sections": [],
      "toc_visible": true
    },
    "accelerator": "GPU"
  },
  "cells": [
    {
      "cell_type": "markdown",
      "metadata": {
        "id": "wcD6ybfcQwzW"
      },
      "source": [
        "#  Lab 2 Instructions\n",
        "\n",
        "In this notebook, we will learn how to do classification of MNIST handwritten digits using TensorFlow 2. The notebook contains all the info that you need to understand the basic mechanism of the classification theory. \n",
        "\n",
        "Your are free to tweak the hyper-parameters (including number of hidden units, number of hidden layers, learning rate, num of iterations and so on) to improve the performance of the model. The final block of the code computes the prediction accuracy of the model on the testing set, please do not change this block.\n",
        "\n",
        "Make sure that your final submission is a notebook that can be run from beginning to end, and you should print out the accuracy at the end of the notebook (i.e. be sure to run the last block after training). It is in fact possible to achieve >98% accuracy on this dataset with a more complex neural network architecture and careful tuning of hyper-parameters. **Your grade will depend on the final prediction accuracy**. However, if you tweak the evaluation code to report false result, you will receive no credit for this assignment."
      ]
    },
    {
      "cell_type": "code",
      "metadata": {
        "id": "BO9phKwSQwzX"
      },
      "source": [
        "import tensorflow as tf\n",
        "import matplotlib.pyplot as plt"
      ],
      "execution_count": 1,
      "outputs": []
    },
    {
      "cell_type": "markdown",
      "metadata": {
        "id": "Uz9vfQapQwzY"
      },
      "source": [
        "## Classification using TensorFlow 2\n",
        "\n",
        "In the introduction notebook, we walked through how to solve a supervised learning regression problem (i.e. where the labels are continuous values) from scratch. Now, you will build a model that solves a classification problem (i.e. where the labels are discrete values). We will use the MNIST hand written digit dataset, a toy benchmark for image classification models. Let's first load the dataset via the TensorFlow 2 API."
      ]
    },
    {
      "cell_type": "markdown",
      "metadata": {
        "id": "f9zSp2agQwzY"
      },
      "source": [
        "### Dataset\n",
        "Here $X_{train},Y_{train}$ denote the training data and $X_{test},Y_{test}$ denote the testing data. We train the model on training set and evaluate its performance on testing set (to evaluate potential under-fitting or over-fitting). As can be seen below, $X_{train}$ contains $60000$ examples with $28 \\times 28 $ pixels. $Y_{train}$ contains $60000$ corresponding examples with $10$ classes. "
      ]
    },
    {
      "cell_type": "code",
      "metadata": {
        "colab": {
          "base_uri": "https://localhost:8080/"
        },
        "id": "wsAsHgRxQwzY",
        "outputId": "fe9c1a1e-9b81-49ae-a7cf-ca204673bc70"
      },
      "source": [
        "mnist = tf.keras.datasets.mnist\n",
        "(x_train, y_train), (x_test, y_test) = mnist.load_data()\n",
        "x_train, x_test = x_train / 255.0, x_test / 255.0\n",
        "\n",
        "x_train = x_train[..., tf.newaxis].astype(\"float32\")\n",
        "x_test = x_test[..., tf.newaxis].astype(\"float32\")\n",
        "\n",
        "\n",
        "train_dataloader = tf.data.Dataset.from_tensor_slices((x_train, y_train)).shuffle(10000).batch(64)\n",
        "test_dataloader = tf.data.Dataset.from_tensor_slices((x_test, y_test)).batch(64)\n",
        "\n",
        "print(len(x_train), len(x_test))"
      ],
      "execution_count": 2,
      "outputs": [
        {
          "output_type": "stream",
          "text": [
            "60000 10000\n"
          ],
          "name": "stdout"
        }
      ]
    },
    {
      "cell_type": "code",
      "metadata": {
        "colab": {
          "base_uri": "https://localhost:8080/",
          "height": 299
        },
        "id": "bQZ2w9_TQwzZ",
        "outputId": "f016cf20-c2e8-486b-bcc7-a40a56b87b66"
      },
      "source": [
        "x, y = x_train[0], y_train[0]\n",
        "print(\"Shape of x: \", x.shape)\n",
        "print(\"Label: \", y)\n",
        "\n",
        "plt.imshow(x.squeeze(), cmap='gray_r');"
      ],
      "execution_count": 3,
      "outputs": [
        {
          "output_type": "stream",
          "text": [
            "Shape of x:  (28, 28, 1)\n",
            "Label:  5\n"
          ],
          "name": "stdout"
        },
        {
          "output_type": "display_data",
          "data": {
            "image/png": "[encoded data removed]",
            "text/plain": [
              "<Figure size 432x288 with 1 Axes>"
            ]
          },
          "metadata": {
            "tags": [],
            "needs_background": "light"
          }
        }
      ]
    },
    {
      "cell_type": "markdown",
      "metadata": {
        "id": "A__3Sf6KQwzZ"
      },
      "source": [
        "Let's look at a bunch of samples!"
      ]
    },
    {
      "cell_type": "code",
      "metadata": {
        "colab": {
          "base_uri": "https://localhost:8080/",
          "height": 246
        },
        "id": "nmarnzZZQwzZ",
        "outputId": "bf8b3018-0ecd-4da7-8a79-764a0b95e7b5"
      },
      "source": [
        "figure = plt.figure()\n",
        "num_of_images = 60\n",
        "for i in range(1, num_of_images + 1):\n",
        "    x, y = x_train[i], y_train[i]\n",
        "    plt.subplot(6, 10, i)\n",
        "    plt.axis('off')\n",
        "    plt.imshow(x.squeeze(), cmap='gray_r')"
      ],
      "execution_count": 4,
      "outputs": [
        {
          "output_type": "display_data",
          "data": {
            "image/png": "[encoded data removed]",
            "text/plain": [
              "<Figure size 432x288 with 60 Axes>"
            ]
          },
          "metadata": {
            "tags": [],
            "needs_background": "light"
          }
        }
      ]
    },
    {
      "cell_type": "markdown",
      "metadata": {
        "id": "GmDdcnnoQwzZ"
      },
      "source": [
        "### Model\n",
        "You are responsible for defining the model f(x) = y, where x is an image and y is the digit found in the image. We provide one way to do this, but you will need to explore different model architectures and training strategies to get sufficient performance: \n",
        "\n",
        "The shape of any image x is 28x28. We can reshape the image so it is instead a vector of length 28*28 = 784. Then, we can use the methods described in the introduction notebook to map a 784-dimensional vector to a 10-dimensional vector of probabilities. The digit in the image will then correspond to the index of the highest probability entry in the predicted 10-dimensional vector."
      ]
    },
    {
      "cell_type": "code",
      "metadata": {
        "id": "VMG1COjyQwza",
        "colab": {
          "base_uri": "https://localhost:8080/"
        },
        "outputId": "7c802f5c-c20f-4e09-d399-d45ce15263eb"
      },
      "source": [
        "import keras\n",
        "from keras.models import Sequential\n",
        "from keras import models, layers\n",
        "from keras.datasets import mnist\n",
        "from keras.utils import np_utils\n",
        "from tensorflow.keras.layers import BatchNormalization\n",
        "\n",
        "\n",
        "# Set numeric type to float32 from uint8\n",
        "x_train = x_train.astype('float32')\n",
        "x_test = x_test.astype('float32')\n",
        "\n",
        "# Normalize value to [0, 1]\n",
        "x_train /= 255\n",
        "x_test /= 255\n",
        "\n",
        "# Transform lables to one-hot encoding\n",
        "y_train = np_utils.to_categorical(y_train, 10)\n",
        "y_test = np_utils.to_categorical(y_test, 10)\n",
        "\n",
        "# Reshape the dataset \n",
        "x_train = x_train.reshape(60000,28*28, 1)\n",
        "x_test = x_test.reshape(10000,28*28,1)\n",
        "\n",
        "print(x_train.shape)\n",
        "\n",
        "\n",
        "model = Sequential()\n",
        "model.add(BatchNormalization(trainable=True))\n",
        "model.add(layers.Dropout(0.2))\n",
        "\n",
        "model.add(layers.Dense(500, activation='relu', kernel_initializer='he_normal'))\n",
        "model.add(BatchNormalization(trainable=True))\n",
        "model.add(layers.Dropout(0.3))\n",
        "\n",
        "model.add(layers.Dense(500, activation='relu', kernel_initializer='he_normal'))\n",
        "model.add(BatchNormalization(trainable=True))\n",
        "model.add(layers.Dropout(0.3))\n",
        "\n",
        "model.add(layers.Dense(500, activation='relu', kernel_initializer='he_normal'))\n",
        "model.add(BatchNormalization(trainable=True))\n",
        "model.add(layers.Dropout(0.3))\n",
        "\n",
        "model.add(layers.Dense(500, activation='relu', kernel_initializer='he_normal'))\n",
        "model.add(BatchNormalization(trainable=True))\n",
        "model.add(layers.Dropout(0.3))\n",
        "\n",
        "model.add(layers.Dense(10, activation='softmax'))\n",
        "\n",
        "\n",
        "# compile model\n",
        "optimizer = tf.keras.optimizers.Adam(learning_rate=0.001)\n",
        "model.compile(optimizer=optimizer, loss='categorical_crossentropy', metrics=['accuracy'])"
      ],
      "execution_count": 5,
      "outputs": [
        {
          "output_type": "stream",
          "text": [
            "(60000, 784, 1)\n"
          ],
          "name": "stdout"
        }
      ]
    },
    {
      "cell_type": "markdown",
      "metadata": {
        "id": "GIVpcGQfQwza"
      },
      "source": [
        "Unlike regression, where the predicted output y is a scalar in $\\mathbb{R}$, in classification the model outputs logits or scores, one for each class. In our problem, there are 10 classes so the output of f(x) is a 10-dimensional vector of scores. \n",
        "\n",
        "In order to convert these scores to probabilities, we can simply normalize. Typically, the softmax operation is used to compute probabilties from logits or scores. After computing the prediction y = f(x), which is a 10-dimensional, we can compute the probability vector p:\n",
        "\n",
        "$$p_i = \\frac{e^{y_i}}{\\sum_{j=1}^{10} e^{y_j}}, i=1,\\ldots, 10, \\text{ or } p=softmax(y)$$"
      ]
    },
    {
      "cell_type": "code",
      "metadata": {
        "id": "YYjUjxB7Qwza"
      },
      "source": [
        "def probabilties_from_scores(y):\n",
        "    f = tf.nn.softmax\n",
        "    p = f(y)\n",
        "    return p"
      ],
      "execution_count": 6,
      "outputs": []
    },
    {
      "cell_type": "markdown",
      "metadata": {
        "id": "QJ_UIYnIQwza"
      },
      "source": [
        "### Loss\n",
        "\n",
        "For $K$ classes, our labels y in the dataset will take on an integer value between [0,K]. We must convert these values to one-hot representations. For example, when $K=3$, y = 1 as a one-hot vector would be $[1,0,0]$ to represent the first class. If the model predicts a probability $p\\in\\mathbb{R}^K$ for this training instance, the loss function is\n",
        "\n",
        "$$L = - \\sum_{i=1}^K y_i \\log p_i$$\n",
        "\n",
        "Therefore, in the example where y = 1, L = - probability of the first entry since the one-hot vector is [1, 0, 0]. The loss function motivates assigning high probability to true classes and low probability otherwise."
      ]
    },
    {
      "cell_type": "code",
      "metadata": {
        "id": "_NKHx-HKQwza"
      },
      "source": [
        "def loss(y_hat, y):\n",
        "    # y_hat has shape (N, 10) for 10 classes, y has shape (N,) \n",
        "    f = tf.keras.losses.SparseCategoricalCrossentropy(from_logits=True)\n",
        "    return f(y, y_hat)"
      ],
      "execution_count": 7,
      "outputs": []
    },
    {
      "cell_type": "markdown",
      "metadata": {
        "id": "Fd2SWpe1Qwza"
      },
      "source": [
        "### Optimization\n",
        "Now we perform stochastic gradient descent on the model. We can first try to evaluate the model's initial performance on the testing dataset as a comparison."
      ]
    },
    {
      "cell_type": "code",
      "metadata": {
        "id": "0T7yq1HGQwzb"
      },
      "source": [
        "def evaluate(dataloader, model, log=False):\n",
        "    correct_count, total_count = 0, 0\n",
        "    for images_batch, labels_batch in dataloader:\n",
        "        images = tf.reshape(images_batch, (images_batch.shape[0],28*28))\n",
        "        scores = model(images)\n",
        "        probabilities = probabilties_from_scores(scores)\n",
        "        pred_label = tf.math.argmax(probabilities, axis=1)\n",
        "        correct_count += tf.reduce_sum(tf.cast(pred_label == tf.cast(labels_batch, tf.int64), tf.int64)).numpy()\n",
        "        total_count += labels_batch.shape[0]\n",
        "\n",
        "    if log:\n",
        "        print(\"Number Of Images Tested =\", total_count)\n",
        "        print(\"Model Accuracy =\", (correct_count/total_count))\n",
        "    \n",
        "    return (correct_count/total_count)"
      ],
      "execution_count": 8,
      "outputs": []
    },
    {
      "cell_type": "code",
      "metadata": {
        "id": "L7X1AyTqQwzb",
        "colab": {
          "base_uri": "https://localhost:8080/"
        },
        "outputId": "2822f34d-813b-4f6a-f424-d52fa0583797"
      },
      "source": [
        "result = evaluate(test_dataloader, model, log=True)"
      ],
      "execution_count": 9,
      "outputs": [
        {
          "output_type": "stream",
          "text": [
            "Number Of Images Tested = 10000\n",
            "Model Accuracy = 0.1085\n"
          ],
          "name": "stdout"
        }
      ]
    },
    {
      "cell_type": "markdown",
      "metadata": {
        "id": "ROuPXv69Qwzb"
      },
      "source": [
        "#### Training Loop\n",
        "Optimize the model to improve the prediction accuracy."
      ]
    },
    {
      "cell_type": "code",
      "metadata": {
        "id": "LMxKrQUUQwzb",
        "colab": {
          "base_uri": "https://localhost:8080/"
        },
        "outputId": "03af14f3-5382-4897-a607-a1ad4b703734"
      },
      "source": [
        "epochs = 15\n",
        "for epoch in range(epochs):\n",
        "    running_loss = 0\n",
        "    for images_batch, labels_batch in train_dataloader:\n",
        "        images_batch = tf.reshape(images_batch, (images_batch.shape[0], 28*28))   # Flatten MNIST images into a 784 long vector\n",
        "        \n",
        "        with tf.GradientTape() as tape:\n",
        "            # forward pass\n",
        "            y_hat = model(images_batch)\n",
        "            y = labels_batch\n",
        "            L = loss(y_hat, y)\n",
        "            \n",
        "        # backward pass\n",
        "        gradients = tape.gradient(L, model.trainable_variables)\n",
        "        \n",
        "        # update parameters\n",
        "        optimizer.apply_gradients(zip(gradients, model.trainable_variables))\n",
        "        \n",
        "        running_loss += L.numpy()\n",
        "        \n",
        "    training_loss = running_loss/len(train_dataloader)\n",
        "    train_accuracy = evaluate(train_dataloader, model)\n",
        "    test_accuracy = evaluate(test_dataloader, model)                                  \n",
        "    \n",
        "    if epoch % 1 == 0:\n",
        "        print(\"Epoch {} - Training loss: {}  Train Accuracy: {}  Test Accuracy: {}\".format(epoch, training_loss, train_accuracy, test_accuracy))"
      ],
      "execution_count": 10,
      "outputs": [
        {
          "output_type": "stream",
          "text": [
            "Epoch 0 - Training loss: 0.193915240054549  Train Accuracy: 0.9727166666666667  Test Accuracy: 0.9665\n",
            "Epoch 1 - Training loss: 0.087769702627961  Train Accuracy: 0.9836166666666667  Test Accuracy: 0.9717\n",
            "Epoch 2 - Training loss: 0.0597405330647083  Train Accuracy: 0.9888833333333333  Test Accuracy: 0.9756\n",
            "Epoch 3 - Training loss: 0.04559146933784924  Train Accuracy: 0.9851333333333333  Test Accuracy: 0.9718\n",
            "Epoch 4 - Training loss: 0.03627350058141678  Train Accuracy: 0.99005  Test Accuracy: 0.9777\n",
            "Epoch 5 - Training loss: 0.03218182341202407  Train Accuracy: 0.9925666666666667  Test Accuracy: 0.9777\n",
            "Epoch 6 - Training loss: 0.027462447325806758  Train Accuracy: 0.9939  Test Accuracy: 0.9794\n",
            "Epoch 7 - Training loss: 0.025406334173441254  Train Accuracy: 0.9952666666666666  Test Accuracy: 0.9781\n",
            "Epoch 8 - Training loss: 0.019559450726543463  Train Accuracy: 0.9968833333333333  Test Accuracy: 0.9831\n",
            "Epoch 9 - Training loss: 0.02005038040227294  Train Accuracy: 0.9968833333333333  Test Accuracy: 0.9812\n",
            "Epoch 10 - Training loss: 0.019234683615198443  Train Accuracy: 0.9947833333333334  Test Accuracy: 0.979\n",
            "Epoch 11 - Training loss: 0.016855216145404337  Train Accuracy: 0.9958166666666667  Test Accuracy: 0.9779\n",
            "Epoch 12 - Training loss: 0.017388846339754228  Train Accuracy: 0.9971833333333333  Test Accuracy: 0.9813\n",
            "Epoch 13 - Training loss: 0.01514230591443271  Train Accuracy: 0.9969  Test Accuracy: 0.9815\n",
            "Epoch 14 - Training loss: 0.016385484417478068  Train Accuracy: 0.9979833333333333  Test Accuracy: 0.9825\n"
          ],
          "name": "stdout"
        }
      ]
    },
    {
      "cell_type": "markdown",
      "metadata": {
        "id": "ux67quhCQwzc"
      },
      "source": [
        "#### Evaluation \n",
        "Test the model's accuracy on the unseen test dataset."
      ]
    },
    {
      "cell_type": "code",
      "metadata": {
        "id": "bWJFND3kQwzc",
        "colab": {
          "base_uri": "https://localhost:8080/"
        },
        "outputId": "9de4457c-2b55-4f06-adab-ab1015507c15"
      },
      "source": [
        "result = evaluate(test_dataloader, model, log=True)"
      ],
      "execution_count": 11,
      "outputs": [
        {
          "output_type": "stream",
          "text": [
            "Number Of Images Tested = 10000\n",
            "Model Accuracy = 0.9825\n"
          ],
          "name": "stdout"
        }
      ]
    },
    {
      "cell_type": "markdown",
      "metadata": {
        "id": "8VtMWoShQwzc"
      },
      "source": [
        "See that the model's performance improves from 10% accuracy to about 92%. For this simple task, getting an accuracy of 92% is not quite impressive. Try to tweak the parameters and neural network architecture to get better predictions! You should be able to get >= 98% test accuracy."
      ]
    }
  ]
}